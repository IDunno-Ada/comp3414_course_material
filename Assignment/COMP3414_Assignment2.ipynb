{
  "nbformat": 4,
  "nbformat_minor": 0,
  "metadata": {
    "colab": {
      "name": "comp3414 Assignment 2.ipynb",
      "provenance": [],
      "collapsed_sections": [],
      "include_colab_link": true
    },
    "kernelspec": {
      "name": "python3",
      "display_name": "Python 3"
    }
  },
  "cells": [
    {
      "cell_type": "markdown",
      "metadata": {
        "id": "view-in-github",
        "colab_type": "text"
      },
      "source": [
        "<a href=\"https://colab.research.google.com/github/wesley34/comp3414_course_material/blob/master/Assignment/COMP3414_Assignment2.ipynb\" target=\"_parent\"><img src=\"https://colab.research.google.com/assets/colab-badge.svg\" alt=\"Open In Colab\"/></a>"
      ]
    },
    {
      "cell_type": "markdown",
      "metadata": {
        "id": "jKrrqVp-VZ2X",
        "colab_type": "text"
      },
      "source": [
        "## Assignment 2 - oop\n",
        "\n",
        "\n",
        "*   check you basic understanding towards oop\n",
        "*   make sure you know : extension, override and constructor\n",
        "\n"
      ]
    },
    {
      "cell_type": "code",
      "metadata": {
        "id": "KncP1bUWVT1V",
        "colab_type": "code",
        "colab": {}
      },
      "source": [
        ""
      ],
      "execution_count": null,
      "outputs": []
    },
    {
      "cell_type": "markdown",
      "metadata": {
        "id": "-AtYyesHxrqw",
        "colab_type": "text"
      },
      "source": [
        "\n",
        "Assignment 2(OOP Basic)\n",
        "\n",
        "Deadline: 2nd Octember 2020\n",
        "\n",
        "Submission: Please submit a pdf file, which includes:\n",
        "\n",
        "    Colab Link(source code with comment)\n",
        "    Screenshots of the output of your program (please provide 3 test cases for question1 & 2)\n",
        "\n"
      ]
    },
    {
      "cell_type": "markdown",
      "metadata": {
        "id": "5QFrluYeVvR0",
        "colab_type": "text"
      },
      "source": [
        "## Question 1\n",
        "\n",
        "\n",
        "*   You want to find a specific color , diameter, area, name and the radius (if possible)  of some shape\n",
        "*   You want to print the shape as string \n",
        "*   You also want to sum up the area of the shape\n",
        "*   You need to delete the comment \"#your work\" and do the remaining job\n",
        "*   You also need to make classes like rectangle(template given), circle, triangle\n",
        "\n",
        "Special Note:\n",
        "\n",
        "Print the shape(Return a drawing of the shape as a String. Each pixel should be represented by the character * and each empty space should be represented by the space character. Newlines are represented by newline character \\n.)\n",
        "\n"
      ]
    },
    {
      "cell_type": "code",
      "metadata": {
        "id": "r0n2bLa2V-OB",
        "colab_type": "code",
        "colab": {}
      },
      "source": [
        "import math\n",
        "# please extends shape class and make some changes on shape\n",
        "class Shape():\n",
        "  def __init__(self,shape):\n",
        "    self.shape = shape\n",
        "  \n",
        "  def __add__(self, other):\n",
        "          return self.area + other.area\n",
        "\n",
        "  def __sub__(self,other_shape):\n",
        "    return self.area - other_shape.area\n",
        "  "
      ],
      "execution_count": null,
      "outputs": []
    },
    {
      "cell_type": "code",
      "metadata": {
        "id": "TWE9hwVrXMX2",
        "colab_type": "code",
        "colab": {}
      },
      "source": [
        "class Rectangle(Shape):\n",
        "  def __init__(self,width,height,shape):\n",
        "    # your work\n",
        "    super(Rectangle,self).__init__(shape)\n",
        "  ## your work with functions .."
      ],
      "execution_count": null,
      "outputs": []
    },
    {
      "cell_type": "code",
      "metadata": {
        "id": "tXb-155Dd1RT",
        "colab_type": "code",
        "colab": {}
      },
      "source": [
        "class Triangle(Shape):\n",
        "  def __init__(self,width,height,shape):\n",
        "    ## your work\n",
        "    pass\n",
        "    "
      ],
      "execution_count": null,
      "outputs": []
    },
    {
      "cell_type": "code",
      "metadata": {
        "id": "yo6qOkt-d8CK",
        "colab_type": "code",
        "colab": {}
      },
      "source": [
        "class Circle(Shape):\n",
        "  def __init__(self,radius,shape):\n",
        "    ## your work\n",
        "    pass "
      ],
      "execution_count": null,
      "outputs": []
    },
    {
      "cell_type": "markdown",
      "metadata": {
        "id": "Zbc3yVXMeHVr",
        "colab_type": "text"
      },
      "source": [
        "## Test case\n",
        "\n",
        "\n"
      ]
    },
    {
      "cell_type": "markdown",
      "metadata": {
        "id": "PvdR2B_feMAs",
        "colab_type": "text"
      },
      "source": [
        "## 1.) Addtion\n",
        "#### Sample :\n",
        "#### rect = Rectangle(10,10,\"rect\")\n",
        "#### circle = Circle(5,\"circle\")\n",
        "#### triangle = Triangle(10,10,\"tr\")\n",
        "#### print(rect+circle+triangle)\n",
        "#### ---------------------\n",
        "#### Expected output : 228.53981633974485"
      ]
    },
    {
      "cell_type": "markdown",
      "metadata": {
        "id": "pAn169FdkAP_",
        "colab_type": "text"
      },
      "source": [
        "## 2.) Subtraction\n",
        "#### Sample :\n",
        "#### rect = Rectangle(10,10,\"rect\")\n",
        "#### circle = Circle(5,\"circle\")\n",
        "#### triangle = Triangle(10,10,\"tr\")\n",
        "#### print(rect-circle-triangle)\n",
        "#### ---------------------\n",
        "#### Expected output : -28.53981633974483"
      ]
    },
    {
      "cell_type": "markdown",
      "metadata": {
        "id": "k22xv0_qkQe9",
        "colab_type": "text"
      },
      "source": [
        "## 3.) Print shape name\n",
        "#### Sample :\n",
        "#### rect = Rectangle(10,10,\"rect\")\n",
        "#### circle = Circle(5,\"circle\")\n",
        "#### triangle = Triangle(10,10,\"tri\")\n",
        "#### print(rect.shape,circle.shape,triangle.shape)\n",
        "#### ---------------------\n",
        "#### Expected output : rect circle tri"
      ]
    },
    {
      "cell_type": "markdown",
      "metadata": {
        "id": "TuBLSPx_rNn1",
        "colab_type": "text"
      },
      "source": [
        "# 4.) Print the shape\n",
        "####Sample:\n",
        "####rect = Rectangle(5,3,\"rect\")\n",
        "####triangle = Triangle(3, 3, \"tri)\n",
        "####print(rect,\"/n\")\n",
        "####print(triangle)\n",
        "#### ---------------------\n",
        "####Expected output:\n",
        "\n",
        "```\n",
        "*****\n",
        "*****\n",
        "*****\n",
        "\n",
        "*\n",
        "**\n",
        "***\n",
        "```\n",
        "\n",
        "\n",
        "\n"
      ]
    },
    {
      "cell_type": "code",
      "metadata": {
        "id": "ZRIaluJzlMZs",
        "colab_type": "code",
        "colab": {}
      },
      "source": [
        ""
      ],
      "execution_count": null,
      "outputs": []
    }
  ]
}