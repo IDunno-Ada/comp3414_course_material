{
  "nbformat": 4,
  "nbformat_minor": 0,
  "metadata": {
    "colab": {
      "name": "COMP3414_Assignment1.ipynb",
      "provenance": []
    },
    "kernelspec": {
      "name": "python3",
      "display_name": "Python 3"
    }
  },
  "cells": [
    {
      "cell_type": "markdown",
      "metadata": {
        "id": "YsAeE3a9zYOt",
        "colab_type": "text"
      },
      "source": [
        "# **Assignment 1(Python Basic, NumPy Basic)**\n",
        "\n",
        "Deadline: 24th September 2020\n",
        "\n",
        "Submission: Please submit a pdf file, which includes:\n",
        "\n",
        "\n",
        "1.   Colab Link(source code with comment)\n",
        "2.   Screenshots of the output of your program (please provide 3 test cases for question1 & 2)\n",
        "\n"
      ]
    },
    {
      "cell_type": "markdown",
      "metadata": {
        "id": "QjO6WCbxs7nn",
        "colab_type": "text"
      },
      "source": [
        "# **Question 1**\n",
        "\n",
        "You are given a string s and an integer array indices with same length.\n",
        "\n",
        "The string s will be shuffled such that the character at the i-th position will move to \"address of element i in indices\" of the shuffled string.\n",
        "\n",
        "**Example 1:**\n",
        "Input: s = \"pet\", indices = [0,1,2]\n",
        "\n",
        "Output: \"pet\"\n",
        "\n",
        "Explanation: After shuffling, each character remains in its position.\n",
        "\n",
        "**Example 2:**\n",
        "Input: s = \"comp\", indices = [3,0,1,2]\n",
        "\n",
        "Output: \"pcom\"\n",
        "\n",
        "**Example 3:**\n",
        "Input: s = \"wesleyyam\", indices = [1,3,5,7,8,6,4,2,0]\n",
        "\n",
        "Output: \"elyamyesw\"\n",
        "\n",
        "**Contstraints**\n",
        "\n",
        "s.length == indices.length\n",
        "\n",
        "1 <= n <= 15\n",
        "\n",
        "s contains only lower-case English letters.\n",
        "\n",
        "All values of indices are unique (i.e. indices is a permutation of the integers from 0 to n - 1)."
      ]
    },
    {
      "cell_type": "markdown",
      "metadata": {
        "id": "L7AtuS-OiQf3",
        "colab_type": "text"
      },
      "source": [
        "# **Question 2**\n",
        "You are given the target number n. Each time you can only add 1 or add 2. You need to find how many ways to calculate the target.\n",
        "\n",
        "**Input** : the target ; \n",
        "**Output** : the number of the ways.\n",
        "\n",
        "**Example 1:**\n",
        "\n",
        "Input: 2\n",
        "\n",
        "Output: 2\n",
        "\n",
        "Explanation: There are 2 ways to calculate the target number 2.\n",
        "1. 1  + 1 \n",
        "2. 2 \n",
        "\n",
        "**Example 2:**\n",
        "\n",
        "Input: 3\n",
        "\n",
        "Output: 3\n",
        "\n",
        "Explanation: There are 3 ways to calculate the target number 3.\n",
        "1. 1  + 1  + 1 \n",
        "2. 1  + 2 \n",
        "3. 2  + 1 \n",
        " \n",
        "**Constraints**\n",
        "\n",
        "1 <= n <= 50\n",
        "\n"
      ]
    },
    {
      "cell_type": "markdown",
      "metadata": {
        "id": "ZqeiKqYM2zi8",
        "colab_type": "text"
      },
      "source": [
        "# **Question 3**\n",
        "\n",
        "**3.1 Create a 4X2 integer array with random value and Prints the following attributes. Then reshape it to a 2X4 NumPy array**\n",
        "\n",
        "\n",
        "*   The shape of an array\n",
        "*   Array dimensions\n",
        "*   The Length of each element of the array in bytes\n",
        "\n",
        "Example expected output:\n",
        "\n",
        "```\n",
        "[[222 111]\n",
        " [502     0]\n",
        " [3333   -111]\n",
        " [    0     0]]\n",
        "\n",
        "1. Array Shape:  (4, 2)\n",
        "2. Array dimensions are  2\n",
        "3. Length of each element of array in bytes is  8\n",
        "\n",
        "[[222 502 3333 0]\n",
        "[111 0 -111 0]]\n",
        "```\n",
        "**3.2 Replace column two of a 3x3 NumPy Array with numpy.array([[10,10,10]]).**\n",
        "\n",
        "Example:\n",
        "```\n",
        "Original array:\n",
        "[[34 43 73]\n",
        " [82 22 12]\n",
        " [53 94 66]]\n",
        "\n",
        "New Column:\n",
        "[[10]\n",
        " [10]\n",
        " [10]]\n",
        "\n",
        "Result array:\n",
        "[[34 10 73]\n",
        " [82 10 12]\n",
        " [53 10 66]]\n",
        "```\n",
        "\n",
        "**3.3 Try to expand the dimension of a NumPy Array.**\n",
        "\n",
        "Expand a 3x3 matrix to 3x3x1x1 matrix\n",
        "\n",
        "\n",
        "\n",
        "\n",
        "\n"
      ]
    },
    {
      "cell_type": "markdown",
      "metadata": {
        "id": "oWUG-90NJG2B",
        "colab_type": "text"
      },
      "source": [
        "# **Congratulation! You have completed the assignment.**"
      ]
    }
  ]
}
