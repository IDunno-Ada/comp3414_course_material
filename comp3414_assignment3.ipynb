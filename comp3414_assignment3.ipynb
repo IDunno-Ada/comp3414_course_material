{
  "nbformat": 4,
  "nbformat_minor": 0,
  "metadata": {
    "colab": {
      "name": "Comp3414-assignment3.ipynb",
      "provenance": [],
      "collapsed_sections": [
        "zQYXXWQB6_kk",
        "lqkjhKzGPSoP",
        "tZdLXy1xsAhH",
        "ltddmWVV2pJ_"
      ],
      "authorship_tag": "ABX9TyNfyz2rDtOrh7M8cb5DJ3f5",
      "include_colab_link": true
    },
    "kernelspec": {
      "name": "python3",
      "display_name": "Python 3"
    },
    "accelerator": "GPU"
  },
  "cells": [
    {
      "cell_type": "markdown",
      "metadata": {
        "id": "view-in-github",
        "colab_type": "text"
      },
      "source": [
        "<a href=\"https://colab.research.google.com/github/wesley34/comp3414_course_material/blob/master/comp3414_assignment3.ipynb\" target=\"_parent\"><img src=\"https://colab.research.google.com/assets/colab-badge.svg\" alt=\"Open In Colab\"/></a>"
      ]
    },
    {
      "cell_type": "markdown",
      "metadata": {
        "id": "eMDVmjbnsP-W"
      },
      "source": [
        "#### Useful import"
      ]
    },
    {
      "cell_type": "code",
      "metadata": {
        "id": "mugXvdJEsaHF"
      },
      "source": [
        "#Q1\n",
        "import tensorflow as tf\n",
        "import tensorflow_datasets as tfds\n",
        "import tensorflow.keras as K\n",
        "import tensorflow.keras.layers as KL\n",
        "tfds.disable_progress_bar()\n"
      ],
      "execution_count": 1,
      "outputs": []
    },
    {
      "cell_type": "code",
      "metadata": {
        "id": "uLJOYo2Bsc4j"
      },
      "source": [
        "import os\n",
        "import numpy as np"
      ],
      "execution_count": 2,
      "outputs": []
    },
    {
      "cell_type": "code",
      "metadata": {
        "id": "jhFFPhIUtRci"
      },
      "source": [
        "#Q2\n",
        "import torch\n",
        "import torchvision\n",
        "import torchvision.transforms as transforms\n",
        "import torch.nn as nn\n",
        "import torch.optim as optim\n",
        "import torch.nn.functional as F\n",
        "from tqdm import tqdm"
      ],
      "execution_count": 3,
      "outputs": []
    },
    {
      "cell_type": "code",
      "metadata": {
        "id": "G233Bqopu9Yz"
      },
      "source": [
        "#Q3\n",
        "import gym\n",
        "import cv2"
      ],
      "execution_count": 4,
      "outputs": []
    },
    {
      "cell_type": "markdown",
      "metadata": {
        "id": "LtvBTwD08Yh4"
      },
      "source": [
        "#### GPU Usage in colab https://colab.research.google.com/notebooks/gpu.ipynb#scrollTo=Y04m-jvKRDsJ\n",
        "\n",
        "### please do not run it if you are not in colab/ own a gpu"
      ]
    },
    {
      "cell_type": "code",
      "metadata": {
        "id": "7hb1SYPG8aCq",
        "outputId": "83f94c10-6346-41cb-eb4d-c46ce66f04fa",
        "colab": {
          "base_uri": "https://localhost:8080/",
          "height": 35
        }
      },
      "source": [
        "# gpu \n",
        "device_name = tf.test.gpu_device_name()\n",
        "if device_name != '/device:GPU:0':\n",
        "  raise SystemError('GPU device not found')\n",
        "print('Found GPU at: {}'.format(device_name))"
      ],
      "execution_count": 5,
      "outputs": [
        {
          "output_type": "stream",
          "text": [
            "Found GPU at: /device:GPU:0\n"
          ],
          "name": "stdout"
        }
      ]
    },
    {
      "cell_type": "code",
      "metadata": {
        "id": "Metut3wc8htd",
        "outputId": "0a6433dd-c6a9-48e5-bc89-c8dba70d5ffc",
        "colab": {
          "base_uri": "https://localhost:8080/",
          "height": 127
        }
      },
      "source": [
        "%tensorflow_version 2.x\n",
        "import tensorflow as tf\n",
        "import timeit\n",
        "\n",
        "device_name = tf.test.gpu_device_name()\n",
        "if device_name != '/device:GPU:0':\n",
        "  print(\n",
        "      '\\n\\nThis error most likely means that this notebook is not '\n",
        "      'configured to use a GPU.  Change this in Notebook Settings via the '\n",
        "      'command palette (cmd/ctrl-shift-P) or the Edit menu.\\n\\n')\n",
        "  raise SystemError('GPU device not found')\n",
        "\n",
        "def cpu():\n",
        "  with tf.device('/cpu:0'):\n",
        "    random_image_cpu = tf.random.normal((100, 100, 100, 3))\n",
        "    net_cpu = tf.keras.layers.Conv2D(32, 7)(random_image_cpu)\n",
        "    return tf.math.reduce_sum(net_cpu)\n",
        "\n",
        "def gpu():\n",
        "  with tf.device('/device:GPU:0'):\n",
        "    random_image_gpu = tf.random.normal((100, 100, 100, 3))\n",
        "    net_gpu = tf.keras.layers.Conv2D(32, 7)(random_image_gpu)\n",
        "    return tf.math.reduce_sum(net_gpu)\n",
        "  \n",
        "# We run each op once to warm up; see: https://stackoverflow.com/a/45067900\n",
        "cpu()\n",
        "gpu()\n",
        "\n",
        "# Run the op several times.\n",
        "print('Time (s) to convolve 32x7x7x3 filter over random 100x100x100x3 images '\n",
        "      '(batch x height x width x channel). Sum of ten runs.')\n",
        "print('CPU (s):')\n",
        "cpu_time = timeit.timeit('cpu()', number=10, setup=\"from __main__ import cpu\")\n",
        "print(cpu_time)\n",
        "print('GPU (s):')\n",
        "gpu_time = timeit.timeit('gpu()', number=10, setup=\"from __main__ import gpu\")\n",
        "print(gpu_time)\n",
        "print('GPU speedup over CPU: {}x'.format(int(cpu_time/gpu_time)))"
      ],
      "execution_count": 6,
      "outputs": [
        {
          "output_type": "stream",
          "text": [
            "Time (s) to convolve 32x7x7x3 filter over random 100x100x100x3 images (batch x height x width x channel). Sum of ten runs.\n",
            "CPU (s):\n",
            "3.0399836120000003\n",
            "GPU (s):\n",
            "0.10879706100000419\n",
            "GPU speedup over CPU: 27x\n"
          ],
          "name": "stdout"
        }
      ]
    },
    {
      "cell_type": "markdown",
      "metadata": {
        "id": "zQYXXWQB6_kk"
      },
      "source": [
        "## Homework requirement\n",
        "---\n",
        "## Objective\n",
        "1. Test your skills on basic tuning (50 percent)\n",
        "2. Test your skills on making a simple deep learning model with gym (50 percent)\n",
        "\n",
        "## Your goal\n",
        "1. try to tune your model / change a new one to let your model to classify the hand-written number corretly\n",
        "2. try to tune your model / change a new one to let your model to classify the CIFAR10 data (https://www.cs.toronto.edu/~kriz/cifar.html) corretly\n",
        "3. try to call the open-AI gym and create a deep-learning model, you may copy the github one as template or random-online template, and tune/create a new deep-learning model as long as you can finish the work.\n",
        "\n",
        "\n",
        "\n",
        "---\n",
        "## Requirement for Q1/Q2\n",
        "1. send us the capped photo for your model-accuracy in the evaluation section\n",
        "2. send us the captured photo for your model-architecture\n",
        "3. send us the code with link/file\n",
        "4. photo are included inside pdf , code/link is attached inside the pdf/zipped\n",
        "\n",
        "## Requirement for Q3\n",
        "1. write down what gym you used\n",
        "2. send us the capture photo on your model-architecture (code-segment/code-block/photo)\n",
        "3. send us the model-accuracy (if you attempt the level-2)\n",
        "4. tell us what the wrapper did (if you attempt the level-3)\n",
        "\n",
        "\n",
        "---\n",
        "## Marking\n",
        "##### Accuracy > model-diffculty\n",
        "\n",
        "*   Accuracy\n",
        "*   model-diffculty/creativity (bonus)\n",
        "\n",
        "\n",
        "---\n",
        "## Final word\n",
        "##### Low accuracy is ok , we will see your model and hard work\n",
        "##### Low accuracy can attain high/full mark as you can demonstrate your hard work\n",
        "\n"
      ]
    },
    {
      "cell_type": "code",
      "metadata": {
        "id": "PWTPp0-xTEly"
      },
      "source": [
        ""
      ],
      "execution_count": null,
      "outputs": []
    },
    {
      "cell_type": "markdown",
      "metadata": {
        "id": "4-Az26NyS-Wb"
      },
      "source": [
        "## Q1 tune a tensorflow model\n",
        "\n",
        "---\n",
        "## Marks\n",
        "1. 10 % of the assignment\n",
        "2. Bonus point will be given (max +5% of assignment3)\n",
        "\n",
        "## Setting\n",
        "1. you are give the mnist dataset : hand-written digits https://en.wikipedia.org/wiki/MNIST_database\n",
        "\n",
        "\n",
        "## Goal\n",
        "1. Testing your understanding on tensorflow\n",
        "\n",
        "## tips\n",
        "1. you can use the following as template\n",
        "\n"
      ]
    },
    {
      "cell_type": "code",
      "metadata": {
        "id": "MW1ZUySyTKRa"
      },
      "source": [
        "## Minst dataset download"
      ],
      "execution_count": null,
      "outputs": []
    },
    {
      "cell_type": "code",
      "metadata": {
        "id": "enZ2P7f0Sq0j"
      },
      "source": [
        "(ds_train, ds_test), ds_info = tfds.load(\n",
        "    'mnist',\n",
        "    split=['train', 'test'],\n",
        "    shuffle_files=True,\n",
        "    as_supervised=True,\n",
        "    with_info=True,\n",
        ")\n"
      ],
      "execution_count": null,
      "outputs": []
    },
    {
      "cell_type": "code",
      "metadata": {
        "id": "A5fA1m-VSq02"
      },
      "source": [
        "def normalize_img(image, label):\n",
        "  # from domain [0-256] compress to codomain [0-1]\n",
        "  return tf.cast(image, tf.float32) / 255., label\n",
        "\n",
        "ds_train = ds_train.map(\n",
        "    normalize_img, num_parallel_calls=tf.data.experimental.AUTOTUNE)\n",
        "ds_train = ds_train.cache()\n",
        "ds_train = ds_train.shuffle(ds_info.splits['train'].num_examples)\n",
        "ds_train = ds_train.batch(128)\n",
        "ds_train = ds_train.prefetch(tf.data.experimental.AUTOTUNE)"
      ],
      "execution_count": null,
      "outputs": []
    },
    {
      "cell_type": "code",
      "metadata": {
        "id": "dIE6WvLYSq0-"
      },
      "source": [
        "ds_test = ds_test.map(\n",
        "    normalize_img, num_parallel_calls=tf.data.experimental.AUTOTUNE)\n",
        "ds_test = ds_test.batch(128)\n",
        "ds_test = ds_test.cache()\n",
        "ds_test = ds_test.prefetch(tf.data.experimental.AUTOTUNE)"
      ],
      "execution_count": null,
      "outputs": []
    },
    {
      "cell_type": "code",
      "metadata": {
        "id": "4PCus7s8Sq1I"
      },
      "source": [
        ""
      ],
      "execution_count": null,
      "outputs": []
    },
    {
      "cell_type": "code",
      "metadata": {
        "id": "734XBVV4Sq1R",
        "outputId": "3673f337-df11-4c37-fceb-c9358645523f",
        "colab": {
          "base_uri": "https://localhost:8080/"
        }
      },
      "source": [
        "q2_ds_train"
      ],
      "execution_count": null,
      "outputs": [
        {
          "output_type": "execute_result",
          "data": {
            "text/plain": [
              "<DatasetV1Adapter shapes: (None, 1, 28, 28), types: tf.float32>"
            ]
          },
          "metadata": {
            "tags": []
          },
          "execution_count": 260
        }
      ]
    },
    {
      "cell_type": "code",
      "metadata": {
        "id": "Pwi9IlO8ybIH"
      },
      "source": [
        ""
      ],
      "execution_count": null,
      "outputs": []
    },
    {
      "cell_type": "code",
      "metadata": {
        "id": "t4KijwLurP9N"
      },
      "source": [
        "# tune anything you want / or you may change this model to a completely new one\n",
        "# this is for you as template\n",
        "model = K.Sequential(name=\"question_1_model\")\n",
        "model.add(KL.Conv2D(24,(3,3),strides=(1,1),padding=\"valid\",activation=\"relu\"))\n",
        "model.add(KL.Conv2D(64,(1,1),strides=(1,1),padding=\"valid\",activation=\"relu\"))\n",
        "model.add(KL.MaxPool2D(pool_size=(2,2)))\n",
        "model.add(KL.BatchNormalization())\n",
        "model.add(KL.Flatten())\n",
        "model.add(KL.Dense(64,activation=\"relu\"))\n",
        "model.add(KL.Dense(10, activation='softmax'))"
      ],
      "execution_count": null,
      "outputs": []
    },
    {
      "cell_type": "code",
      "metadata": {
        "id": "G4X0yvnzvSxO"
      },
      "source": [
        ""
      ],
      "execution_count": null,
      "outputs": []
    },
    {
      "cell_type": "code",
      "metadata": {
        "id": "Hc7b4lAVvg-i"
      },
      "source": [
        "model.compile(optimizer=K.optimizers.Adam(lr=0.01),loss='sparse_categorical_crossentropy',metrics=[\"accuracy\"])"
      ],
      "execution_count": null,
      "outputs": []
    },
    {
      "cell_type": "code",
      "metadata": {
        "id": "Ze3w1B8bvhBx",
        "outputId": "8e15b81f-48a2-4ab1-fe0e-cf8b6c3d6c13",
        "colab": {
          "base_uri": "https://localhost:8080/",
          "height": 36
        }
      },
      "source": [
        "print(ds_train)\n",
        "# x shape (None, 28, 28, 1) where None means batchsize\n",
        "# y shape (None,) where None means batchsize\n",
        "# you may input tf dataset adapter as \n",
        "# model.fit(x=x,y=y,batch_size=12,epochs=20) == model.fit(<DatasetV1Adapter ,batch_size=12,epochs=20)"
      ],
      "execution_count": null,
      "outputs": [
        {
          "output_type": "stream",
          "text": [
            "<DatasetV1Adapter shapes: ((None, 28, 28, 1), (None,)), types: (tf.float32, tf.int64)>\n"
          ],
          "name": "stdout"
        }
      ]
    },
    {
      "cell_type": "markdown",
      "metadata": {
        "id": "0kPTn_-P38E0"
      },
      "source": [
        "#### save the best model"
      ]
    },
    {
      "cell_type": "code",
      "metadata": {
        "id": "3sROv6fF3ld0",
        "outputId": "d44f8493-1597-4005-f1f4-7906e3265bf5",
        "colab": {
          "base_uri": "https://localhost:8080/",
          "height": 36
        }
      },
      "source": [
        "!mkdir training_1"
      ],
      "execution_count": null,
      "outputs": [
        {
          "output_type": "stream",
          "text": [
            "mkdir: cannot create directory ‘training_1’: File exists\n"
          ],
          "name": "stdout"
        }
      ]
    },
    {
      "cell_type": "code",
      "metadata": {
        "id": "g4ZY7lp62OYz"
      },
      "source": [
        "checkpoint_path = \"./training_1\"\n",
        "checkpoint_dir = os.path.dirname(checkpoint_path)"
      ],
      "execution_count": null,
      "outputs": []
    },
    {
      "cell_type": "code",
      "metadata": {
        "id": "bU46WXxfJjAT"
      },
      "source": [
        ""
      ],
      "execution_count": null,
      "outputs": []
    },
    {
      "cell_type": "code",
      "metadata": {
        "id": "dkuQfmAJ103z"
      },
      "source": [
        "# cpu version\n",
        "# callback function for get the best fiting result\n",
        "model_checkpoint_callback = K.callbacks.ModelCheckpoint(\n",
        "    filepath=checkpoint_path,\n",
        "    save_weights_only=True,\n",
        "    monitor='accuracy',\n",
        "    mode='max',\n",
        "    save_best_only=True)\n"
      ],
      "execution_count": null,
      "outputs": []
    },
    {
      "cell_type": "markdown",
      "metadata": {
        "id": "gMddRE4h3_Q8"
      },
      "source": [
        "#### fit the model"
      ]
    },
    {
      "cell_type": "code",
      "metadata": {
        "id": "BXU9NXQjvyRk",
        "outputId": "4aed9e7e-d9bf-470d-a920-d06556100597",
        "colab": {
          "base_uri": "https://localhost:8080/",
          "height": 434
        }
      },
      "source": [
        "# please do not use cross-validation or loss with target to test set\n",
        "# you can tune this as well\n",
        "# tips for this one is that the learning rate can be a lot lower\n",
        "# more batches for a lot lower learning rate\n",
        "# can remove some bad layers\n",
        "model.fit(ds_train,batch_size=30,epochs=5,callbacks=[model_checkpoint_callback])"
      ],
      "execution_count": null,
      "outputs": [
        {
          "output_type": "stream",
          "text": [
            "Epoch 1/5\n",
            "469/469 [==============================] - 54s 115ms/step - loss: 0.0436 - accuracy: 0.9897\n",
            "Epoch 2/5\n",
            " 11/469 [..............................] - ETA: 47s - loss: 0.0283 - accuracy: 0.9943"
          ],
          "name": "stdout"
        },
        {
          "output_type": "error",
          "ename": "KeyboardInterrupt",
          "evalue": "ignored",
          "traceback": [
            "\u001b[0;31m---------------------------------------------------------------------------\u001b[0m",
            "\u001b[0;31mKeyboardInterrupt\u001b[0m                         Traceback (most recent call last)",
            "\u001b[0;32m<ipython-input-224-335a423f49a3>\u001b[0m in \u001b[0;36m<module>\u001b[0;34m()\u001b[0m\n\u001b[1;32m      4\u001b[0m \u001b[0;31m# more batches for a lot lower learning rate\u001b[0m\u001b[0;34m\u001b[0m\u001b[0;34m\u001b[0m\u001b[0;34m\u001b[0m\u001b[0m\n\u001b[1;32m      5\u001b[0m \u001b[0;31m# can remove some bad layers\u001b[0m\u001b[0;34m\u001b[0m\u001b[0;34m\u001b[0m\u001b[0;34m\u001b[0m\u001b[0m\n\u001b[0;32m----> 6\u001b[0;31m \u001b[0mmodel\u001b[0m\u001b[0;34m.\u001b[0m\u001b[0mfit\u001b[0m\u001b[0;34m(\u001b[0m\u001b[0mds_train\u001b[0m\u001b[0;34m,\u001b[0m\u001b[0mbatch_size\u001b[0m\u001b[0;34m=\u001b[0m\u001b[0;36m30\u001b[0m\u001b[0;34m,\u001b[0m\u001b[0mepochs\u001b[0m\u001b[0;34m=\u001b[0m\u001b[0;36m5\u001b[0m\u001b[0;34m,\u001b[0m\u001b[0mcallbacks\u001b[0m\u001b[0;34m=\u001b[0m\u001b[0;34m[\u001b[0m\u001b[0mmodel_checkpoint_callback\u001b[0m\u001b[0;34m]\u001b[0m\u001b[0;34m)\u001b[0m\u001b[0;34m\u001b[0m\u001b[0;34m\u001b[0m\u001b[0m\n\u001b[0m",
            "\u001b[0;32m/usr/local/lib/python3.6/dist-packages/tensorflow/python/keras/engine/training.py\u001b[0m in \u001b[0;36m_method_wrapper\u001b[0;34m(self, *args, **kwargs)\u001b[0m\n\u001b[1;32m    106\u001b[0m   \u001b[0;32mdef\u001b[0m \u001b[0m_method_wrapper\u001b[0m\u001b[0;34m(\u001b[0m\u001b[0mself\u001b[0m\u001b[0;34m,\u001b[0m \u001b[0;34m*\u001b[0m\u001b[0margs\u001b[0m\u001b[0;34m,\u001b[0m \u001b[0;34m**\u001b[0m\u001b[0mkwargs\u001b[0m\u001b[0;34m)\u001b[0m\u001b[0;34m:\u001b[0m\u001b[0;34m\u001b[0m\u001b[0;34m\u001b[0m\u001b[0m\n\u001b[1;32m    107\u001b[0m     \u001b[0;32mif\u001b[0m \u001b[0;32mnot\u001b[0m \u001b[0mself\u001b[0m\u001b[0;34m.\u001b[0m\u001b[0m_in_multi_worker_mode\u001b[0m\u001b[0;34m(\u001b[0m\u001b[0;34m)\u001b[0m\u001b[0;34m:\u001b[0m  \u001b[0;31m# pylint: disable=protected-access\u001b[0m\u001b[0;34m\u001b[0m\u001b[0;34m\u001b[0m\u001b[0m\n\u001b[0;32m--> 108\u001b[0;31m       \u001b[0;32mreturn\u001b[0m \u001b[0mmethod\u001b[0m\u001b[0;34m(\u001b[0m\u001b[0mself\u001b[0m\u001b[0;34m,\u001b[0m \u001b[0;34m*\u001b[0m\u001b[0margs\u001b[0m\u001b[0;34m,\u001b[0m \u001b[0;34m**\u001b[0m\u001b[0mkwargs\u001b[0m\u001b[0;34m)\u001b[0m\u001b[0;34m\u001b[0m\u001b[0;34m\u001b[0m\u001b[0m\n\u001b[0m\u001b[1;32m    109\u001b[0m \u001b[0;34m\u001b[0m\u001b[0m\n\u001b[1;32m    110\u001b[0m     \u001b[0;31m# Running inside `run_distribute_coordinator` already.\u001b[0m\u001b[0;34m\u001b[0m\u001b[0;34m\u001b[0m\u001b[0;34m\u001b[0m\u001b[0m\n",
            "\u001b[0;32m/usr/local/lib/python3.6/dist-packages/tensorflow/python/keras/engine/training.py\u001b[0m in \u001b[0;36mfit\u001b[0;34m(self, x, y, batch_size, epochs, verbose, callbacks, validation_split, validation_data, shuffle, class_weight, sample_weight, initial_epoch, steps_per_epoch, validation_steps, validation_batch_size, validation_freq, max_queue_size, workers, use_multiprocessing)\u001b[0m\n\u001b[1;32m   1096\u001b[0m                 batch_size=batch_size):\n\u001b[1;32m   1097\u001b[0m               \u001b[0mcallbacks\u001b[0m\u001b[0;34m.\u001b[0m\u001b[0mon_train_batch_begin\u001b[0m\u001b[0;34m(\u001b[0m\u001b[0mstep\u001b[0m\u001b[0;34m)\u001b[0m\u001b[0;34m\u001b[0m\u001b[0;34m\u001b[0m\u001b[0m\n\u001b[0;32m-> 1098\u001b[0;31m               \u001b[0mtmp_logs\u001b[0m \u001b[0;34m=\u001b[0m \u001b[0mtrain_function\u001b[0m\u001b[0;34m(\u001b[0m\u001b[0miterator\u001b[0m\u001b[0;34m)\u001b[0m\u001b[0;34m\u001b[0m\u001b[0;34m\u001b[0m\u001b[0m\n\u001b[0m\u001b[1;32m   1099\u001b[0m               \u001b[0;32mif\u001b[0m \u001b[0mdata_handler\u001b[0m\u001b[0;34m.\u001b[0m\u001b[0mshould_sync\u001b[0m\u001b[0;34m:\u001b[0m\u001b[0;34m\u001b[0m\u001b[0;34m\u001b[0m\u001b[0m\n\u001b[1;32m   1100\u001b[0m                 \u001b[0mcontext\u001b[0m\u001b[0;34m.\u001b[0m\u001b[0masync_wait\u001b[0m\u001b[0;34m(\u001b[0m\u001b[0;34m)\u001b[0m\u001b[0;34m\u001b[0m\u001b[0;34m\u001b[0m\u001b[0m\n",
            "\u001b[0;32m/usr/local/lib/python3.6/dist-packages/tensorflow/python/eager/def_function.py\u001b[0m in \u001b[0;36m__call__\u001b[0;34m(self, *args, **kwds)\u001b[0m\n\u001b[1;32m    778\u001b[0m       \u001b[0;32melse\u001b[0m\u001b[0;34m:\u001b[0m\u001b[0;34m\u001b[0m\u001b[0;34m\u001b[0m\u001b[0m\n\u001b[1;32m    779\u001b[0m         \u001b[0mcompiler\u001b[0m \u001b[0;34m=\u001b[0m \u001b[0;34m\"nonXla\"\u001b[0m\u001b[0;34m\u001b[0m\u001b[0;34m\u001b[0m\u001b[0m\n\u001b[0;32m--> 780\u001b[0;31m         \u001b[0mresult\u001b[0m \u001b[0;34m=\u001b[0m \u001b[0mself\u001b[0m\u001b[0;34m.\u001b[0m\u001b[0m_call\u001b[0m\u001b[0;34m(\u001b[0m\u001b[0;34m*\u001b[0m\u001b[0margs\u001b[0m\u001b[0;34m,\u001b[0m \u001b[0;34m**\u001b[0m\u001b[0mkwds\u001b[0m\u001b[0;34m)\u001b[0m\u001b[0;34m\u001b[0m\u001b[0;34m\u001b[0m\u001b[0m\n\u001b[0m\u001b[1;32m    781\u001b[0m \u001b[0;34m\u001b[0m\u001b[0m\n\u001b[1;32m    782\u001b[0m       \u001b[0mnew_tracing_count\u001b[0m \u001b[0;34m=\u001b[0m \u001b[0mself\u001b[0m\u001b[0;34m.\u001b[0m\u001b[0m_get_tracing_count\u001b[0m\u001b[0;34m(\u001b[0m\u001b[0;34m)\u001b[0m\u001b[0;34m\u001b[0m\u001b[0;34m\u001b[0m\u001b[0m\n",
            "\u001b[0;32m/usr/local/lib/python3.6/dist-packages/tensorflow/python/eager/def_function.py\u001b[0m in \u001b[0;36m_call\u001b[0;34m(self, *args, **kwds)\u001b[0m\n\u001b[1;32m    805\u001b[0m       \u001b[0;31m# In this case we have created variables on the first call, so we run the\u001b[0m\u001b[0;34m\u001b[0m\u001b[0;34m\u001b[0m\u001b[0;34m\u001b[0m\u001b[0m\n\u001b[1;32m    806\u001b[0m       \u001b[0;31m# defunned version which is guaranteed to never create variables.\u001b[0m\u001b[0;34m\u001b[0m\u001b[0;34m\u001b[0m\u001b[0;34m\u001b[0m\u001b[0m\n\u001b[0;32m--> 807\u001b[0;31m       \u001b[0;32mreturn\u001b[0m \u001b[0mself\u001b[0m\u001b[0;34m.\u001b[0m\u001b[0m_stateless_fn\u001b[0m\u001b[0;34m(\u001b[0m\u001b[0;34m*\u001b[0m\u001b[0margs\u001b[0m\u001b[0;34m,\u001b[0m \u001b[0;34m**\u001b[0m\u001b[0mkwds\u001b[0m\u001b[0;34m)\u001b[0m  \u001b[0;31m# pylint: disable=not-callable\u001b[0m\u001b[0;34m\u001b[0m\u001b[0;34m\u001b[0m\u001b[0m\n\u001b[0m\u001b[1;32m    808\u001b[0m     \u001b[0;32melif\u001b[0m \u001b[0mself\u001b[0m\u001b[0;34m.\u001b[0m\u001b[0m_stateful_fn\u001b[0m \u001b[0;32mis\u001b[0m \u001b[0;32mnot\u001b[0m \u001b[0;32mNone\u001b[0m\u001b[0;34m:\u001b[0m\u001b[0;34m\u001b[0m\u001b[0;34m\u001b[0m\u001b[0m\n\u001b[1;32m    809\u001b[0m       \u001b[0;31m# Release the lock early so that multiple threads can perform the call\u001b[0m\u001b[0;34m\u001b[0m\u001b[0;34m\u001b[0m\u001b[0;34m\u001b[0m\u001b[0m\n",
            "\u001b[0;32m/usr/local/lib/python3.6/dist-packages/tensorflow/python/eager/function.py\u001b[0m in \u001b[0;36m__call__\u001b[0;34m(self, *args, **kwargs)\u001b[0m\n\u001b[1;32m   2827\u001b[0m     \u001b[0;32mwith\u001b[0m \u001b[0mself\u001b[0m\u001b[0;34m.\u001b[0m\u001b[0m_lock\u001b[0m\u001b[0;34m:\u001b[0m\u001b[0;34m\u001b[0m\u001b[0;34m\u001b[0m\u001b[0m\n\u001b[1;32m   2828\u001b[0m       \u001b[0mgraph_function\u001b[0m\u001b[0;34m,\u001b[0m \u001b[0margs\u001b[0m\u001b[0;34m,\u001b[0m \u001b[0mkwargs\u001b[0m \u001b[0;34m=\u001b[0m \u001b[0mself\u001b[0m\u001b[0;34m.\u001b[0m\u001b[0m_maybe_define_function\u001b[0m\u001b[0;34m(\u001b[0m\u001b[0margs\u001b[0m\u001b[0;34m,\u001b[0m \u001b[0mkwargs\u001b[0m\u001b[0;34m)\u001b[0m\u001b[0;34m\u001b[0m\u001b[0;34m\u001b[0m\u001b[0m\n\u001b[0;32m-> 2829\u001b[0;31m     \u001b[0;32mreturn\u001b[0m \u001b[0mgraph_function\u001b[0m\u001b[0;34m.\u001b[0m\u001b[0m_filtered_call\u001b[0m\u001b[0;34m(\u001b[0m\u001b[0margs\u001b[0m\u001b[0;34m,\u001b[0m \u001b[0mkwargs\u001b[0m\u001b[0;34m)\u001b[0m  \u001b[0;31m# pylint: disable=protected-access\u001b[0m\u001b[0;34m\u001b[0m\u001b[0;34m\u001b[0m\u001b[0m\n\u001b[0m\u001b[1;32m   2830\u001b[0m \u001b[0;34m\u001b[0m\u001b[0m\n\u001b[1;32m   2831\u001b[0m   \u001b[0;34m@\u001b[0m\u001b[0mproperty\u001b[0m\u001b[0;34m\u001b[0m\u001b[0;34m\u001b[0m\u001b[0m\n",
            "\u001b[0;32m/usr/local/lib/python3.6/dist-packages/tensorflow/python/eager/function.py\u001b[0m in \u001b[0;36m_filtered_call\u001b[0;34m(self, args, kwargs, cancellation_manager)\u001b[0m\n\u001b[1;32m   1846\u001b[0m                            resource_variable_ops.BaseResourceVariable))],\n\u001b[1;32m   1847\u001b[0m         \u001b[0mcaptured_inputs\u001b[0m\u001b[0;34m=\u001b[0m\u001b[0mself\u001b[0m\u001b[0;34m.\u001b[0m\u001b[0mcaptured_inputs\u001b[0m\u001b[0;34m,\u001b[0m\u001b[0;34m\u001b[0m\u001b[0;34m\u001b[0m\u001b[0m\n\u001b[0;32m-> 1848\u001b[0;31m         cancellation_manager=cancellation_manager)\n\u001b[0m\u001b[1;32m   1849\u001b[0m \u001b[0;34m\u001b[0m\u001b[0m\n\u001b[1;32m   1850\u001b[0m   \u001b[0;32mdef\u001b[0m \u001b[0m_call_flat\u001b[0m\u001b[0;34m(\u001b[0m\u001b[0mself\u001b[0m\u001b[0;34m,\u001b[0m \u001b[0margs\u001b[0m\u001b[0;34m,\u001b[0m \u001b[0mcaptured_inputs\u001b[0m\u001b[0;34m,\u001b[0m \u001b[0mcancellation_manager\u001b[0m\u001b[0;34m=\u001b[0m\u001b[0;32mNone\u001b[0m\u001b[0;34m)\u001b[0m\u001b[0;34m:\u001b[0m\u001b[0;34m\u001b[0m\u001b[0;34m\u001b[0m\u001b[0m\n",
            "\u001b[0;32m/usr/local/lib/python3.6/dist-packages/tensorflow/python/eager/function.py\u001b[0m in \u001b[0;36m_call_flat\u001b[0;34m(self, args, captured_inputs, cancellation_manager)\u001b[0m\n\u001b[1;32m   1922\u001b[0m       \u001b[0;31m# No tape is watching; skip to running the function.\u001b[0m\u001b[0;34m\u001b[0m\u001b[0;34m\u001b[0m\u001b[0;34m\u001b[0m\u001b[0m\n\u001b[1;32m   1923\u001b[0m       return self._build_call_outputs(self._inference_function.call(\n\u001b[0;32m-> 1924\u001b[0;31m           ctx, args, cancellation_manager=cancellation_manager))\n\u001b[0m\u001b[1;32m   1925\u001b[0m     forward_backward = self._select_forward_and_backward_functions(\n\u001b[1;32m   1926\u001b[0m         \u001b[0margs\u001b[0m\u001b[0;34m,\u001b[0m\u001b[0;34m\u001b[0m\u001b[0;34m\u001b[0m\u001b[0m\n",
            "\u001b[0;32m/usr/local/lib/python3.6/dist-packages/tensorflow/python/eager/function.py\u001b[0m in \u001b[0;36mcall\u001b[0;34m(self, ctx, args, cancellation_manager)\u001b[0m\n\u001b[1;32m    548\u001b[0m               \u001b[0minputs\u001b[0m\u001b[0;34m=\u001b[0m\u001b[0margs\u001b[0m\u001b[0;34m,\u001b[0m\u001b[0;34m\u001b[0m\u001b[0;34m\u001b[0m\u001b[0m\n\u001b[1;32m    549\u001b[0m               \u001b[0mattrs\u001b[0m\u001b[0;34m=\u001b[0m\u001b[0mattrs\u001b[0m\u001b[0;34m,\u001b[0m\u001b[0;34m\u001b[0m\u001b[0;34m\u001b[0m\u001b[0m\n\u001b[0;32m--> 550\u001b[0;31m               ctx=ctx)\n\u001b[0m\u001b[1;32m    551\u001b[0m         \u001b[0;32melse\u001b[0m\u001b[0;34m:\u001b[0m\u001b[0;34m\u001b[0m\u001b[0;34m\u001b[0m\u001b[0m\n\u001b[1;32m    552\u001b[0m           outputs = execute.execute_with_cancellation(\n",
            "\u001b[0;32m/usr/local/lib/python3.6/dist-packages/tensorflow/python/eager/execute.py\u001b[0m in \u001b[0;36mquick_execute\u001b[0;34m(op_name, num_outputs, inputs, attrs, ctx, name)\u001b[0m\n\u001b[1;32m     58\u001b[0m     \u001b[0mctx\u001b[0m\u001b[0;34m.\u001b[0m\u001b[0mensure_initialized\u001b[0m\u001b[0;34m(\u001b[0m\u001b[0;34m)\u001b[0m\u001b[0;34m\u001b[0m\u001b[0;34m\u001b[0m\u001b[0m\n\u001b[1;32m     59\u001b[0m     tensors = pywrap_tfe.TFE_Py_Execute(ctx._handle, device_name, op_name,\n\u001b[0;32m---> 60\u001b[0;31m                                         inputs, attrs, num_outputs)\n\u001b[0m\u001b[1;32m     61\u001b[0m   \u001b[0;32mexcept\u001b[0m \u001b[0mcore\u001b[0m\u001b[0;34m.\u001b[0m\u001b[0m_NotOkStatusException\u001b[0m \u001b[0;32mas\u001b[0m \u001b[0me\u001b[0m\u001b[0;34m:\u001b[0m\u001b[0;34m\u001b[0m\u001b[0;34m\u001b[0m\u001b[0m\n\u001b[1;32m     62\u001b[0m     \u001b[0;32mif\u001b[0m \u001b[0mname\u001b[0m \u001b[0;32mis\u001b[0m \u001b[0;32mnot\u001b[0m \u001b[0;32mNone\u001b[0m\u001b[0;34m:\u001b[0m\u001b[0;34m\u001b[0m\u001b[0;34m\u001b[0m\u001b[0m\n",
            "\u001b[0;31mKeyboardInterrupt\u001b[0m: "
          ]
        }
      ]
    },
    {
      "cell_type": "code",
      "metadata": {
        "id": "Ijkmp04zymjK"
      },
      "source": [
        ""
      ],
      "execution_count": null,
      "outputs": []
    },
    {
      "cell_type": "markdown",
      "metadata": {
        "id": "VwULi_IW5qSP"
      },
      "source": [
        "#### summary"
      ]
    },
    {
      "cell_type": "code",
      "metadata": {
        "id": "wsmNPtqLynNz",
        "outputId": "71e62259-e62b-48bb-a8f1-9082d551fe5a",
        "colab": {
          "base_uri": "https://localhost:8080/",
          "height": 419
        }
      },
      "source": [
        "model.summary()"
      ],
      "execution_count": null,
      "outputs": [
        {
          "output_type": "stream",
          "text": [
            "Model: \"question_1_model\"\n",
            "_________________________________________________________________\n",
            "Layer (type)                 Output Shape              Param #   \n",
            "=================================================================\n",
            "conv2d_14 (Conv2D)           (None, 26, 26, 24)        240       \n",
            "_________________________________________________________________\n",
            "conv2d_15 (Conv2D)           (None, 26, 26, 64)        1600      \n",
            "_________________________________________________________________\n",
            "max_pooling2d_7 (MaxPooling2 (None, 13, 13, 64)        0         \n",
            "_________________________________________________________________\n",
            "batch_normalization_6 (Batch (None, 13, 13, 64)        256       \n",
            "_________________________________________________________________\n",
            "flatten_6 (Flatten)          (None, 10816)             0         \n",
            "_________________________________________________________________\n",
            "dense_12 (Dense)             (None, 64)                692288    \n",
            "_________________________________________________________________\n",
            "dense_13 (Dense)             (None, 10)                650       \n",
            "=================================================================\n",
            "Total params: 695,034\n",
            "Trainable params: 694,906\n",
            "Non-trainable params: 128\n",
            "_________________________________________________________________\n"
          ],
          "name": "stdout"
        }
      ]
    },
    {
      "cell_type": "code",
      "metadata": {
        "id": "LR9q_ScUyqAF"
      },
      "source": [
        ""
      ],
      "execution_count": null,
      "outputs": []
    },
    {
      "cell_type": "markdown",
      "metadata": {
        "id": "aOhubHSM5o3A"
      },
      "source": [
        "#### plot the model architecture"
      ]
    },
    {
      "cell_type": "code",
      "metadata": {
        "id": "8jUjjGmoyqCt",
        "outputId": "0f446782-7121-430f-863a-af27aa5dd733",
        "colab": {
          "base_uri": "https://localhost:8080/",
          "height": 758
        }
      },
      "source": [
        "K.utils.plot_model(model)"
      ],
      "execution_count": null,
      "outputs": [
        {
          "output_type": "execute_result",
          "data": {
            "image/png": "[encoded data removed]",
            "text/plain": [
              "<IPython.core.display.Image object>"
            ]
          },
          "metadata": {
            "tags": []
          },
          "execution_count": 226
        }
      ]
    },
    {
      "cell_type": "code",
      "metadata": {
        "id": "mrVS6aNVynVd"
      },
      "source": [
        "latest = tf.train.latest_checkpoint(checkpoint_dir)"
      ],
      "execution_count": null,
      "outputs": []
    },
    {
      "cell_type": "code",
      "metadata": {
        "id": "ksIK-dXXK1iR",
        "outputId": "4ef8c473-7085-4ff6-bfbf-84e4e6592844",
        "colab": {
          "base_uri": "https://localhost:8080/",
          "height": 36
        }
      },
      "source": [
        "latest"
      ],
      "execution_count": null,
      "outputs": [
        {
          "output_type": "execute_result",
          "data": {
            "application/vnd.google.colaboratory.intrinsic+json": {
              "type": "string"
            },
            "text/plain": [
              "'./training_1'"
            ]
          },
          "metadata": {
            "tags": []
          },
          "execution_count": 228
        }
      ]
    },
    {
      "cell_type": "markdown",
      "metadata": {
        "id": "75DuZcmE5l5z"
      },
      "source": [
        "#### Evaluation section "
      ]
    },
    {
      "cell_type": "code",
      "metadata": {
        "id": "gjRgb5BNI2b5",
        "outputId": "e1b57409-baa3-4dbf-d3a2-6aa420d00a24",
        "colab": {
          "base_uri": "https://localhost:8080/",
          "height": 35
        }
      },
      "source": [
        "model.load_weights(latest)"
      ],
      "execution_count": null,
      "outputs": [
        {
          "output_type": "execute_result",
          "data": {
            "text/plain": [
              "<tensorflow.python.training.tracking.util.CheckpointLoadStatus at 0x7f0b50e66780>"
            ]
          },
          "metadata": {
            "tags": []
          },
          "execution_count": 229
        }
      ]
    },
    {
      "cell_type": "code",
      "metadata": {
        "id": "ZgC2UuzK5f1f",
        "outputId": "64cf5e9b-d1dd-47b2-e2ea-df27e1f8a3e5",
        "colab": {
          "base_uri": "https://localhost:8080/",
          "height": 54
        }
      },
      "source": [
        "# this will be the checking section\n",
        "model.evaluate(ds_test)"
      ],
      "execution_count": null,
      "outputs": [
        {
          "output_type": "stream",
          "text": [
            "79/79 [==============================] - 2s 29ms/step - loss: 0.1144 - accuracy: 0.9805\n"
          ],
          "name": "stdout"
        },
        {
          "output_type": "execute_result",
          "data": {
            "text/plain": [
              "[0.11442284286022186, 0.9804999828338623]"
            ]
          },
          "metadata": {
            "tags": []
          },
          "execution_count": 230
        }
      ]
    },
    {
      "cell_type": "code",
      "metadata": {
        "id": "jlUWDdkXRlAy"
      },
      "source": [
        ""
      ],
      "execution_count": null,
      "outputs": []
    },
    {
      "cell_type": "markdown",
      "metadata": {
        "id": "ltddmWVV2pJ_"
      },
      "source": [
        "# Q2 tune a pytorch model\n",
        "## Q2 tune a pytorch model\n",
        "\n",
        "---\n",
        "## Marks\n",
        "1. 40 % of the assignment 3\n",
        "2. bonus (+ 10 percent of assignment 3)\n",
        "\n",
        "## Setting\n",
        "1. you are give the CIFAR10 dataset : different picture https://www.cs.toronto.edu/~kriz/cifar.html\n",
        "\n",
        "\n",
        "## Goal\n",
        "1. Testing your understanding on tensorflow\n",
        "\n",
        "## tips\n",
        "1. you can use the following as template\n",
        "\n"
      ]
    },
    {
      "cell_type": "code",
      "metadata": {
        "id": "RMvZEvdDo63C",
        "outputId": "3ddf0e16-edd5-4e84-ca96-622a04ce3e40",
        "colab": {
          "base_uri": "https://localhost:8080/",
          "height": 36
        }
      },
      "source": [
        "BATCH_SIZE = 6\n",
        "MINI_BATCH = 500\n",
        "device = torch.device(\"cuda:0\" if torch.cuda.is_available() else \"cpu\")\n",
        "print(device)"
      ],
      "execution_count": null,
      "outputs": [
        {
          "output_type": "stream",
          "text": [
            "cuda:0\n"
          ],
          "name": "stdout"
        }
      ]
    },
    {
      "cell_type": "markdown",
      "metadata": {
        "id": "-A2E3mJsdysX"
      },
      "source": [
        "## Dataset"
      ]
    },
    {
      "cell_type": "code",
      "metadata": {
        "id": "wT6y3CvXhU_E",
        "outputId": "ea20b01b-b5df-498f-fb5c-dc27fb590f14",
        "colab": {
          "base_uri": "https://localhost:8080/",
          "height": 55
        }
      },
      "source": [
        "transform = transforms.Compose(\n",
        "    [transforms.ToTensor(),\n",
        "     transforms.Normalize((0.5, 0.5, 0.5), (0.5, 0.5, 0.5))])\n",
        "\n",
        "train_set = torchvision.datasets.CIFAR10(root='./data', train=True,\n",
        "                                        download=True, transform=transform)\n",
        "train_loader = torch.utils.data.DataLoader(train_set, batch_size=BATCH_SIZE,\n",
        "                                          shuffle=True, num_workers=2,drop_last=True) #bad practice here(drop_last=True), but for the ease for some of the student\n",
        "\n",
        "test_set = torchvision.datasets.CIFAR10(root='./data', train=False,\n",
        "                                       download=True, transform=transform)\n",
        "test_loader = torch.utils.data.DataLoader(test_set, batch_size=BATCH_SIZE,\n",
        "                                         shuffle=False, num_workers=2,drop_last=True) #bad practice here , but for the ease\n",
        "\n",
        "classes = ('plane', 'car', 'bird', 'cat',\n",
        "           'deer', 'dog', 'frog', 'horse', 'ship', 'truck')"
      ],
      "execution_count": null,
      "outputs": [
        {
          "output_type": "stream",
          "text": [
            "Files already downloaded and verified\n",
            "Files already downloaded and verified\n"
          ],
          "name": "stdout"
        }
      ]
    },
    {
      "cell_type": "code",
      "metadata": {
        "id": "e2z4krMBdx9g"
      },
      "source": [
        ""
      ],
      "execution_count": null,
      "outputs": []
    },
    {
      "cell_type": "markdown",
      "metadata": {
        "id": "LVkWmfMyg8Uo"
      },
      "source": [
        "## Data preview"
      ]
    },
    {
      "cell_type": "code",
      "metadata": {
        "id": "goqdyGRcg-M6"
      },
      "source": [
        "import matplotlib.pyplot as plt\n",
        "import numpy as np\n",
        "\n",
        "\n",
        "\n",
        "def imshow(img):\n",
        "    img = img / 2 + 0.5     # unnormalize\n",
        "    npimg = img.numpy()\n",
        "    plt.imshow(np.transpose(npimg, (1, 2, 0))) # channel height width -> height width channel\n",
        "    plt.show()\n"
      ],
      "execution_count": null,
      "outputs": []
    },
    {
      "cell_type": "code",
      "metadata": {
        "id": "9ZSzEZi7ij7M",
        "outputId": "0c482b40-de85-44ce-e90f-8f7ed5f1385f",
        "colab": {
          "base_uri": "https://localhost:8080/",
          "height": 129
        }
      },
      "source": [
        "\n",
        "data_iter = iter(train_loader)\n",
        "images, labels = data_iter.next()\n",
        "\n",
        "# show images\n",
        "imshow(torchvision.utils.make_grid(images))\n",
        "\n",
        "# print labels\n",
        "print(' '.join('%5s' % classes[labels[i]] for i in range(BATCH_SIZE)))"
      ],
      "execution_count": null,
      "outputs": [
        {
          "output_type": "display_data",
          "data": {
            "image/png": "[encoded data removed]",
            "text/plain": [
              "<Figure size 432x288 with 1 Axes>"
            ]
          },
          "metadata": {
            "tags": [],
            "needs_background": "light"
          }
        },
        {
          "output_type": "stream",
          "text": [
            "  cat   cat   cat horse   cat plane\n"
          ],
          "name": "stdout"
        }
      ]
    },
    {
      "cell_type": "code",
      "metadata": {
        "id": "emM1209UiMxR"
      },
      "source": [
        ""
      ],
      "execution_count": null,
      "outputs": []
    },
    {
      "cell_type": "markdown",
      "metadata": {
        "id": "CMCtt3HMfzaW"
      },
      "source": [
        "## Model"
      ]
    },
    {
      "cell_type": "code",
      "metadata": {
        "id": "f7YbjXE7WSCb"
      },
      "source": [
        "class Q2Net(nn.Module):\n",
        "  def __init__(self,data_loader):\n",
        "    super(Q2Net,self).__init__()\n",
        "\n",
        "    self.data_loader = data_loader\n",
        "\n",
        "    self.conv_1 = nn.Sequential(\n",
        "         nn.Conv2d(3, 32, 5),\n",
        "         nn.Conv2d(32, 64, 4)\n",
        "    )\n",
        "    self.pool_1 = nn.MaxPool2d(2, 2)\n",
        "    \n",
        "    self.conv_2 = nn.Sequential(\n",
        "         nn.Conv2d(64, 128, 3),\n",
        "         nn.Conv2d(128, 138, 3),\n",
        "         nn.Conv2d(138,138,1)\n",
        "    )\n",
        "    self.pool_2 = nn.MaxPool2d(3, 3)\n",
        "\n",
        "    self.get_data_size()\n",
        "    self.check_dim()\n",
        "\n",
        "    self.fc_1 = nn.Linear(self.flattened_size,128)\n",
        "    self.fc_2 = nn.Linear(128,64)\n",
        "    self.fc_3 = nn.Linear(64,10)\n",
        "  \n",
        "  def forward(self,x_0):\n",
        "    x_1 = self.pool_1(F.relu(self.conv_1(x_0)))\n",
        "    x_2 = self.pool_2(F.relu(self.conv_2(x_1)))\n",
        "    x_3 = x_2.view(BATCH_SIZE, self.flattened_size)\n",
        "    x_4 = F.relu(self.fc_1(x_3))\n",
        "    x_5 = F.relu(self.fc_2(x_4))\n",
        "\n",
        "    y_hat = self.fc_3(x_5)\n",
        "    return y_hat\n",
        "  \n",
        "\n",
        "  def check_dim(self):\n",
        "    test_0 = torch.zeros(self.img_size)\n",
        "    test_1 = self.pool_1(F.relu(self.conv_1(test_0)))\n",
        "    result  = self.pool_2(F.relu(self.conv_2(test_1)))\n",
        "    self.flattened_size = int(np.prod(result.size()[1:]))\n",
        "    return self.flattened_size\n",
        "\n",
        "  def get_data_size(self,debug=True):\n",
        "    \n",
        "    for i in iter(self.data_loader):\n",
        "      if debug:\n",
        "        print(\"Debug On\")\n",
        "        print(\"batch size: \",i[1].size())\n",
        "        print(\"batched image size: \",i[0].size())\n",
        "        print(\"label_size: \",i[1].size())\n",
        "      self.img_size = i[0].size()\n",
        "      self.label_size = i[1].size()\n",
        "      break\n",
        "    return self.img_size, self.label_size \n",
        "    \n"
      ],
      "execution_count": null,
      "outputs": []
    },
    {
      "cell_type": "code",
      "metadata": {
        "id": "yZDtd2ixvgQw"
      },
      "source": [
        ""
      ],
      "execution_count": null,
      "outputs": []
    },
    {
      "cell_type": "markdown",
      "metadata": {
        "id": "XKsJsMcsmmM6"
      },
      "source": [
        "## Model summary"
      ]
    },
    {
      "cell_type": "code",
      "metadata": {
        "id": "hwXvkksSsHYp",
        "outputId": "1b1c81fc-d80b-41eb-f162-2921926e84dc",
        "colab": {
          "base_uri": "https://localhost:8080/",
          "height": 430
        }
      },
      "source": [
        "net = Q2Net(train_loader)\n",
        "print(\"------------\")\n",
        "print(\"Summary\")\n",
        "print(net)"
      ],
      "execution_count": null,
      "outputs": [
        {
          "output_type": "stream",
          "text": [
            "Debug On\n",
            "batch size:  torch.Size([6])\n",
            "batched image size:  torch.Size([6, 3, 32, 32])\n",
            "label_size:  torch.Size([6])\n",
            "------------\n",
            "Summary\n",
            "Q2Net(\n",
            "  (conv_1): Sequential(\n",
            "    (0): Conv2d(3, 32, kernel_size=(5, 5), stride=(1, 1))\n",
            "    (1): Conv2d(32, 64, kernel_size=(4, 4), stride=(1, 1))\n",
            "  )\n",
            "  (pool_1): MaxPool2d(kernel_size=2, stride=2, padding=0, dilation=1, ceil_mode=False)\n",
            "  (conv_2): Sequential(\n",
            "    (0): Conv2d(64, 128, kernel_size=(3, 3), stride=(1, 1))\n",
            "    (1): Conv2d(128, 138, kernel_size=(3, 3), stride=(1, 1))\n",
            "    (2): Conv2d(138, 138, kernel_size=(1, 1), stride=(1, 1))\n",
            "  )\n",
            "  (pool_2): MaxPool2d(kernel_size=3, stride=3, padding=0, dilation=1, ceil_mode=False)\n",
            "  (fc_1): Linear(in_features=552, out_features=128, bias=True)\n",
            "  (fc_2): Linear(in_features=128, out_features=64, bias=True)\n",
            "  (fc_3): Linear(in_features=64, out_features=10, bias=True)\n",
            ")\n"
          ],
          "name": "stdout"
        }
      ]
    },
    {
      "cell_type": "code",
      "metadata": {
        "id": "Jfk_UADLUb0E",
        "outputId": "cc2f0afa-5ba5-4ba7-de8b-db250c2af44d",
        "colab": {
          "base_uri": "https://localhost:8080/",
          "height": 318
        }
      },
      "source": [
        "# connect your model to gpu\n",
        "net.to(device)"
      ],
      "execution_count": null,
      "outputs": [
        {
          "output_type": "execute_result",
          "data": {
            "text/plain": [
              "Q2Net(\n",
              "  (conv_1): Sequential(\n",
              "    (0): Conv2d(3, 32, kernel_size=(5, 5), stride=(1, 1))\n",
              "    (1): Conv2d(32, 64, kernel_size=(4, 4), stride=(1, 1))\n",
              "  )\n",
              "  (pool_1): MaxPool2d(kernel_size=2, stride=2, padding=0, dilation=1, ceil_mode=False)\n",
              "  (conv_2): Sequential(\n",
              "    (0): Conv2d(64, 128, kernel_size=(3, 3), stride=(1, 1))\n",
              "    (1): Conv2d(128, 138, kernel_size=(3, 3), stride=(1, 1))\n",
              "    (2): Conv2d(138, 138, kernel_size=(1, 1), stride=(1, 1))\n",
              "  )\n",
              "  (pool_2): MaxPool2d(kernel_size=3, stride=3, padding=0, dilation=1, ceil_mode=False)\n",
              "  (fc_1): Linear(in_features=552, out_features=128, bias=True)\n",
              "  (fc_2): Linear(in_features=128, out_features=64, bias=True)\n",
              "  (fc_3): Linear(in_features=64, out_features=10, bias=True)\n",
              ")"
            ]
          },
          "metadata": {
            "tags": []
          },
          "execution_count": 31
        }
      ]
    },
    {
      "cell_type": "markdown",
      "metadata": {
        "id": "97te96zAsWM0"
      },
      "source": [
        "### optimizers"
      ]
    },
    {
      "cell_type": "code",
      "metadata": {
        "id": "mrxjrh4kXOig"
      },
      "source": [
        "import torch.optim as optim\n",
        "\n",
        "objective_function = nn.CrossEntropyLoss()\n",
        "optimizer = optim.SGD(net.parameters(), lr=0.004, momentum=0.88)"
      ],
      "execution_count": null,
      "outputs": []
    },
    {
      "cell_type": "markdown",
      "metadata": {
        "id": "Uy0ishWJm2Fp"
      },
      "source": [
        "### Training pharse"
      ]
    },
    {
      "cell_type": "code",
      "metadata": {
        "id": "06Huot4hjF_b"
      },
      "source": [
        ""
      ],
      "execution_count": null,
      "outputs": []
    },
    {
      "cell_type": "code",
      "metadata": {
        "id": "1xiFKF58v_ok"
      },
      "source": [
        ""
      ],
      "execution_count": null,
      "outputs": []
    },
    {
      "cell_type": "code",
      "metadata": {
        "id": "qlVzMl65wkA_"
      },
      "source": [
        ""
      ],
      "execution_count": null,
      "outputs": []
    },
    {
      "cell_type": "code",
      "metadata": {
        "id": "IHUq0mD-m57Z",
        "outputId": "32de286c-2a40-4b53-c5c3-c418c330959c",
        "colab": {
          "base_uri": "https://localhost:8080/",
          "height": 618
        }
      },
      "source": [
        "# try to use gpu / u will be very slow :>\n",
        "for epoch in range(2):\n",
        "  training_loss = 0\n",
        "  for idx, data in enumerate(train_loader,0):\n",
        "    inputs,labels = data\n",
        "    # clean parameter gradient\n",
        "    optimizer.zero_grad()\n",
        "    # make input/labels to gpu/cpu\n",
        "    inputs = inputs.to(device)\n",
        "    labels = labels.to(device)\n",
        "    # forward pharse\n",
        "    outputs = net(inputs)\n",
        "    loss = objective_function(outputs,labels)\n",
        "    # backward propagate\n",
        "    loss.backward()\n",
        "    # update optimizer\n",
        "    optimizer.step()\n",
        "\n",
        "    # print out stat\n",
        "    training_loss += loss.item() # The item() method extracts the loss’s value as a Python float.\n",
        "    \n",
        "   \n",
        "    if idx % MINI_BATCH == MINI_BATCH-1: # print per every 500 mini-batches\n",
        "       print('[%d, %5d] loss: %.3f' % (epoch + 1, idx + 1, training_loss / MINI_BATCH))\n",
        "       training_loss = 0."
      ],
      "execution_count": null,
      "outputs": [
        {
          "output_type": "stream",
          "text": [
            "[1,   500] loss: 2.304\n",
            "[1,  1000] loss: 2.246\n",
            "[1,  1500] loss: 2.079\n",
            "[1,  2000] loss: 1.999\n",
            "[1,  2500] loss: 1.907\n",
            "[1,  3000] loss: 1.828\n",
            "[1,  3500] loss: 1.780\n",
            "[1,  4000] loss: 1.728\n",
            "[1,  4500] loss: 1.688\n",
            "[1,  5000] loss: 1.677\n",
            "[1,  5500] loss: 1.648\n",
            "[1,  6000] loss: 1.627\n",
            "[1,  6500] loss: 1.643\n",
            "[1,  7000] loss: 1.596\n",
            "[1,  7500] loss: 1.592\n",
            "[1,  8000] loss: 1.589\n",
            "[2,   500] loss: 1.557\n",
            "[2,  1000] loss: 1.562\n",
            "[2,  1500] loss: 1.533\n",
            "[2,  2000] loss: 1.522\n",
            "[2,  2500] loss: 1.564\n",
            "[2,  3000] loss: 1.531\n",
            "[2,  3500] loss: 1.540\n",
            "[2,  4000] loss: 1.495\n",
            "[2,  4500] loss: 1.533\n",
            "[2,  5000] loss: 1.499\n",
            "[2,  5500] loss: 1.504\n",
            "[2,  6000] loss: 1.532\n",
            "[2,  6500] loss: 1.535\n",
            "[2,  7000] loss: 1.510\n",
            "[2,  7500] loss: 1.527\n",
            "[2,  8000] loss: 1.515\n"
          ],
          "name": "stdout"
        }
      ]
    },
    {
      "cell_type": "markdown",
      "metadata": {
        "id": "z_UJd8BZ6K7b"
      },
      "source": [
        "#### Evaluation part , capture this part please"
      ]
    },
    {
      "cell_type": "code",
      "metadata": {
        "id": "h8kYRc0Tm6Ku",
        "outputId": "10943dc6-d1eb-43cf-d891-78c86693a55d",
        "colab": {
          "base_uri": "https://localhost:8080/",
          "height": 36
        }
      },
      "source": [
        "correct = 0\n",
        "total = 0\n",
        "with torch.no_grad():\n",
        "    for data in test_loader:\n",
        "        images, labels = data\n",
        "        images = images.to(device)\n",
        "        labels = labels.to(device)\n",
        "        outputs = net(images)\n",
        "        _, predicted = torch.max(outputs.data, 1)\n",
        "        total += labels.size(0)\n",
        "        correct += (predicted == labels).sum().item()\n",
        "\n",
        "print('Accuracy of the network on the 10000 test images: %d %%' % (\n",
        "    100 * correct / total))"
      ],
      "execution_count": null,
      "outputs": [
        {
          "output_type": "stream",
          "text": [
            "Accuracy of the network on the 10000 test images: 47 %\n"
          ],
          "name": "stdout"
        }
      ]
    },
    {
      "cell_type": "markdown",
      "metadata": {
        "id": "xbhU6UiX8_wd"
      },
      "source": [
        "### tips\n",
        "\n",
        "\n",
        "1.   run more epoch , as you see here I just ran 2\n",
        "2.   tune different layers and add dropout\n",
        "3.   reduce the nueron numbers if possible\n",
        "4.   try some object detective architecture\n",
        "5.   call pretrained network for transfer learning\n",
        "6.   naive approach then fancy\n",
        "7.   Good Luck\n",
        "\n",
        "\n"
      ]
    },
    {
      "cell_type": "markdown",
      "metadata": {
        "id": "8NzeQxDtPdHi"
      },
      "source": [
        "# Q3 make a simple CNN model for Reinforcement learning  \n",
        "1. Try to adpot Dueling DQN, nosiy DQN ,Double DQN if possible\n",
        "2. Else, just try to make a simple CNN to control the bot\n",
        "3. It is better to modify the wrapper\n",
        "4. You may save the model and then call env.render() in your machine and record us you final product\n",
        "5. Enjoy !\n",
        "\n",
        "\n",
        "---\n",
        "### Basic Requirement  （50%）\n",
        "\n",
        "\n",
        "1.   Capture us your model architecture \n",
        "2.   Capture us with you model mean/max accuracy in the evaluation part\n",
        "\n",
        "\n",
        "\n",
        "\n",
        "---\n",
        "### Goal\n",
        "1.  Understand RL\n",
        "2.  Understand why we need a better algorithm for RL\n",
        "\n",
        "---\n",
        "### Time estimation for tunning\n",
        "1.  Tune at most 2 hours\n",
        "2.  Wait the machine run for at most half days (colab if you have gpu)\n",
        "\n",
        "\n",
        "\n",
        "OPEN AI GYM will be used https://gym.openai.com/docs/"
      ]
    },
    {
      "cell_type": "code",
      "metadata": {
        "id": "a9vtdDlPsKSa"
      },
      "source": [
        "## https://gym.openai.com/envs/#atari\n",
        "## some game here :> \n",
        "\n",
        "##  https://gym.openai.com/envs"
      ],
      "execution_count": null,
      "outputs": []
    },
    {
      "cell_type": "code",
      "metadata": {
        "id": "N5lQ8qM4SV4O",
        "outputId": "1b321cf1-5eec-478b-ae5d-0e5e5afc3178",
        "colab": {
          "base_uri": "https://localhost:8080/",
          "height": 35
        }
      },
      "source": [
        "device = torch.device(\"cuda:0\" if torch.cuda.is_available() else \"cpu\")\n",
        "print(device)"
      ],
      "execution_count": null,
      "outputs": [
        {
          "output_type": "stream",
          "text": [
            "cuda:0\n"
          ],
          "name": "stdout"
        }
      ]
    },
    {
      "cell_type": "code",
      "metadata": {
        "id": "erX3mosRQrta"
      },
      "source": [
        "## tips : try to follow the github one\n",
        "## do not go too fancy"
      ],
      "execution_count": null,
      "outputs": []
    },
    {
      "cell_type": "markdown",
      "metadata": {
        "id": "BSA2g25W1xIF"
      },
      "source": [
        "## Gym Description"
      ]
    },
    {
      "cell_type": "code",
      "metadata": {
        "id": "9Nh5tBp_1xNs",
        "outputId": "7d9c75cf-bbc5-4be8-fe40-4e83fa1112e9",
        "colab": {
          "base_uri": "https://localhost:8080/",
          "height": 54
        }
      },
      "source": [
        "GYM_NAME = \"PongNoFrameskip-v4\" #  Skiing-v0 ... any game you loves but the wrapper maybe error\n",
        "env = gym.make(GYM_NAME)\n",
        "print(\"Action avaliable: \")\n",
        "env.unwrapped.get_action_meanings()"
      ],
      "execution_count": null,
      "outputs": [
        {
          "output_type": "stream",
          "text": [
            "Action avaliable: \n"
          ],
          "name": "stdout"
        },
        {
          "output_type": "execute_result",
          "data": {
            "text/plain": [
              "['NOOP', 'FIRE', 'RIGHT', 'LEFT', 'RIGHTFIRE', 'LEFTFIRE']"
            ]
          },
          "metadata": {
            "tags": []
          },
          "execution_count": 260
        }
      ]
    },
    {
      "cell_type": "code",
      "metadata": {
        "id": "XMurY4LX4jjm"
      },
      "source": [
        ""
      ],
      "execution_count": null,
      "outputs": []
    },
    {
      "cell_type": "code",
      "metadata": {
        "id": "COkTeuT_4mPx",
        "outputId": "f4191ebd-a4e3-4036-afc4-51bf3c293868",
        "colab": {
          "base_uri": "https://localhost:8080/",
          "height": 72
        }
      },
      "source": [
        "env.reset()\n",
        "obs,reward,done,info = env.step(0)\n",
        "print(\"obs shape\",obs.shape)\n",
        "print(\"reward\",reward)\n",
        "print(\"done\",done)"
      ],
      "execution_count": null,
      "outputs": [
        {
          "output_type": "stream",
          "text": [
            "obs shape (210, 160, 3)\n",
            "reward 0.0\n",
            "done False\n"
          ],
          "name": "stdout"
        }
      ]
    },
    {
      "cell_type": "markdown",
      "metadata": {
        "id": "DZ66cKiAyU1N"
      },
      "source": [
        "## Hyper parameter"
      ]
    },
    {
      "cell_type": "code",
      "metadata": {
        "id": "3UDKpJ6oNc5O"
      },
      "source": [
        "GAMMA = 0.8\n",
        "BATCH_SIZE = 32\n",
        "REPLAY_SIZE = 10000\n",
        "REPLAY_START_SIZE = 10000\n",
        "LEARNING_RATE = 3e-2\n",
        "SYNC_TARGET_FRAMES = 1000\n",
        "\n",
        "## Decay factor\n",
        "EPSILON_DECAY_LAST_FRAME = 10**5\n",
        "EPSILON_START = 1.0\n",
        "EPSILON_FINAL = 0.02"
      ],
      "execution_count": null,
      "outputs": []
    },
    {
      "cell_type": "markdown",
      "metadata": {
        "id": "2HaFkuTOxOyl"
      },
      "source": [
        "## Gym Wrapper"
      ]
    },
    {
      "cell_type": "code",
      "metadata": {
        "id": "_bkk-V5QxOil"
      },
      "source": [
        "# resetEnv : we force the agent to press left-key for moving at the start of the game\n",
        "class ResetEnv(gym.Wrapper):\n",
        "  def __init__(self,env=None):\n",
        "    super(ResetEnv,self).__init__(env)\n",
        "    assert env.unwrapped.get_action_meanings()[1] == \"FIRE\"\n",
        "  \n",
        "  def step(self,action):\n",
        "    return self.env.step(action)\n",
        "  \n",
        "  def reset(self):\n",
        "    # when agent call reset, it will reach here first\n",
        "    self.env.reset()\n",
        "    obs,_,done,_ = self.env.step(1)\n",
        "    # if it dies after he presses left ... (lol) -> we reset again and press right\n",
        "    if done:\n",
        "      self.env.reset()\n",
        "    obs,_,done,_ = self.env.step(2)\n",
        "    if done:\n",
        "      self.env.reset()\n",
        "    return obs\n",
        "\n",
        "#ProcessFrame 84: we resize the frame and normalizer it\n",
        "class ProcessFrame84(gym.ObservationWrapper):\n",
        "  def __init__(self,env=None):\n",
        "    super(ProcessFrame84,self).__init__(env)\n",
        "    self.observation_space = gym.spaces.Box(low=0,high=255,shape=(84,84,1),dtype=np.uint8)\n",
        "  \n",
        "  def observation(self,obs):\n",
        "    return ProcessFrame84.process(obs)\n",
        "  \n",
        "  @staticmethod\n",
        "  def process(frame):\n",
        "    if frame.size == 250* 160* 3:\n",
        "      img = np.reshape(frame,[250,160,3]).astype(np.float32)\n",
        "    elif frame.size == 210* 160* 3:\n",
        "      img = np.reshape(frame,[210,160,3]).astype(np.float32)\n",
        "    else:\n",
        "      assert \"Unknown resolution \"\n",
        "    \n",
        "    # weighting on colors to humans\n",
        "    img = img[:,:,0] * 0.229 + img[:,:,1]*0.587 + img[:,:,2]*(0.114)\n",
        "    resized_screen = cv2.resize(img,(84,110),interpolation=cv2.INTER_AREA) # 84 : 110 == 160: 210  around 160: 250, \n",
        "                                          # its hard to find any int x such that x*160/250 is a int so we use 84:110\n",
        "    x_t = resized_screen[18:102,:] #cut the head and tail\n",
        "    x_t = np.reshape(x_t,[84,84,1])\n",
        "   \n",
        "    return x_t.astype(np.uint8)\n",
        "\n",
        "# MomentumMaker : we stack the photo together to get momentum\n",
        "class MomentumMaker(gym.ObservationWrapper):\n",
        "  def __init__(self,env,n_steps,dtype=np.float32):\n",
        "    super(MomentumMaker,self).__init__(env)\n",
        "    self.dtype = dtype\n",
        "    old_space = env.observation_space\n",
        "    self.observation_space = gym.spaces.Box(old_space.low.repeat(n_steps,axis=0),(old_space.high.repeat(n_steps,axis=0)),dtype=self.dtype)\n",
        "\n",
        "  def reset(self):\n",
        "    # call this when game ended\n",
        "    self.buffer = np.zeros_like(self.observation_space.low,dtype=self.dtype)\n",
        "    return self.observation(self.env.reset())\n",
        "  \n",
        "  def observation(self,observation):\n",
        "    # call this when game is processing\n",
        "    # first in first out queue\n",
        "    self.buffer[:-1] = self.buffer[1:]\n",
        "    self.buffer[-1] = observation\n",
        "    return self.buffer\n",
        "\n",
        "\n",
        "# make the shape [height,width,channel] -> [channel,height,width] as nn.conv2d() requires the first element to be channel\n",
        "class ImageToTorchTensor(gym.ObservationWrapper):\n",
        "  def __init__(self,env):\n",
        "    super(ImageToTorchTensor,self).__init__(env)\n",
        "    old_shape = self.observation_space.shape\n",
        "    # define gym spaces box\n",
        "    self.observation_space = gym.spaces.Box(low=0.0,high=1.0,shape=(old_shape[-1],old_shape[0],old_shape[1]),dtype=np.float32) # height,width,channel -> channel,height,width\n",
        "    \n",
        "  def observation(self,observation):\n",
        "    # call this when call observation\n",
        "    # the numpy array will become (channel,height,width)\n",
        "    return np.moveaxis(observation,2,0)\n",
        "\n",
        "# normalize the picture\n",
        "class Normalization(gym.ObservationWrapper):\n",
        "  def observation(self,obs):\n",
        "    return np.array(obs)/255.0\n",
        "\n",
        "\n",
        "  \n"
      ],
      "execution_count": null,
      "outputs": []
    },
    {
      "cell_type": "code",
      "metadata": {
        "id": "0Uwp_AQh-LE2"
      },
      "source": [
        ""
      ],
      "execution_count": null,
      "outputs": []
    },
    {
      "cell_type": "code",
      "metadata": {
        "id": "VjWejKPe6hHt",
        "outputId": "f29b6948-71c9-4171-e538-2a90406b4e41",
        "colab": {
          "base_uri": "https://localhost:8080/",
          "height": 54
        }
      },
      "source": [
        "if True:\n",
        "  print(env.observation_space.high.shape)\n",
        "  print(env.observation_space.high.repeat(5,axis=0).shape)"
      ],
      "execution_count": null,
      "outputs": [
        {
          "output_type": "stream",
          "text": [
            "(210, 160, 3)\n",
            "(1050, 160, 3)\n"
          ],
          "name": "stdout"
        }
      ]
    },
    {
      "cell_type": "markdown",
      "metadata": {
        "id": "rYrHXNRpxMhe"
      },
      "source": [
        "## GYM Creation"
      ]
    },
    {
      "cell_type": "code",
      "metadata": {
        "id": "1TyG_P0OxQjU"
      },
      "source": [
        "def make_env(env_name=GYM_NAME):\n",
        "  env = gym.make(env_name)\n",
        "  # any_other gym wrapper function\n",
        "  env = ResetEnv(env)\n",
        "  env = ProcessFrame84(env)\n",
        "  env = ImageToTorchTensor(env)\n",
        "  env = MomentumMaker(env,4)\n",
        "  env = Normalization(env)\n",
        "  # if no or end\n",
        "  return env"
      ],
      "execution_count": null,
      "outputs": []
    },
    {
      "cell_type": "code",
      "metadata": {
        "id": "5O3EDEm5yRNq",
        "outputId": "0e45c083-f455-480b-b985-d0a2aa738b51",
        "colab": {
          "base_uri": "https://localhost:8080/",
          "height": 35
        }
      },
      "source": [
        "env = make_env(\"PongNoFrameskip-v4\")\n",
        "print(env.observation_space)"
      ],
      "execution_count": null,
      "outputs": [
        {
          "output_type": "stream",
          "text": [
            "Box(4, 84, 84)\n"
          ],
          "name": "stdout"
        }
      ]
    },
    {
      "cell_type": "markdown",
      "metadata": {
        "id": "85e-lQ8uxHd5"
      },
      "source": [
        "## Deep - Learning Model (Your main foucs)"
      ]
    },
    {
      "cell_type": "code",
      "metadata": {
        "id": "OLWJw6Czuqd7"
      },
      "source": [
        "# Tips: for image things only , if you are doing non-image stuff, please make Linear version\n",
        "class DQN(nn.Module):\n",
        "  def __init__(self,input_shape,n_actions): # no batch in template [channel,height,width]\n",
        "    super(DQN,self).__init__()\n",
        "    self.img_size = input_shape\n",
        "    self.conv_1 = nn.Sequential(\n",
        "        nn.Conv2d(input_shape[0],32,kernel_size=6,stride=3),\n",
        "        nn.ReLU(),\n",
        "        nn.Conv2d(32,64,kernel_size=4,stride=2),\n",
        "        nn.ReLU(), \n",
        "        nn.BatchNorm2d(64),\n",
        "        nn.MaxPool2d(2,2),\n",
        "       \n",
        "    )\n",
        "    print(\"conv_1\")\n",
        "    self.conv_2 = nn.Sequential(\n",
        "        nn.Conv2d(64,256,kernel_size=3,stride=2),\n",
        "        nn.ReLU(),\n",
        "        nn.Conv2d(256,256,kernel_size=1,stride=1),\n",
        "        nn.ReLU(),\n",
        "        nn.BatchNorm2d(256),\n",
        "        nn.MaxPool2d(2,2)\n",
        "        \n",
        "    )\n",
        "    print(\"conv_2\")\n",
        "    self.check_dim()\n",
        "    print(\"Pass check dim\")\n",
        "    self.fc_1 = nn.Sequential(\n",
        "        nn.Linear(self.flattened_size,128),\n",
        "        nn.ReLU(),\n",
        "        nn.Linear(128,64),\n",
        "        nn.ReLU(),\n",
        "        nn.Linear(64,n_actions)\n",
        "    )\n",
        "  def check_dim(self):\n",
        "    test_0 = torch.zeros(self.img_size).unsqueeze(0)\n",
        "    print(\"Test 0 pass\")\n",
        "    test_1 = self.conv_1(test_0)\n",
        "    print(\"Test 1 pass\")\n",
        "    result  = self.conv_2(test_1) # wrong size tmr fix\n",
        "    print(\"Check dim result pass\")\n",
        "    self.flattened_size = int(np.prod(result.size()[:]))\n",
        "    return self.flattened_size\n",
        "  \n",
        "  def forward(self,x_0):\n",
        "    x_1 = self.conv_1(x_0)\n",
        "    x_2 = self.conv_2(x_1)\n",
        "    x_3 = x_2.view(-1, self.flattened_size)\n",
        "    y_hat = self.fc_1(x_3)\n",
        "\n",
        "    return y_hat\n"
      ],
      "execution_count": null,
      "outputs": []
    },
    {
      "cell_type": "markdown",
      "metadata": {
        "id": "rkFNoJXbLTTY"
      },
      "source": [
        "## Expereince Buffer"
      ]
    },
    {
      "cell_type": "code",
      "metadata": {
        "id": "vbPj7WXSLVa5"
      },
      "source": [
        "import collections\n",
        "Experience = collections.namedtuple(\"Experience\",field_names=[\"state\",\"action\",\"reward\",\"done\",\"next_state\"])\n",
        "class ExperienceBuffer:\n",
        "  # initialize the buffer capacity\n",
        "  def __init__(self,capacity_of_buffer):\n",
        "    self.buffer = collections.deque(maxlen=capacity_of_buffer)\n",
        "  # return beffer size\n",
        "  def __len__(self):\n",
        "    return len(self.buffer)\n",
        "  # append exp to buffer\n",
        "  def append(self,expereince):\n",
        "    self.buffer.append(expereince)\n",
        "  # get the random sample from random choice of vector \n",
        "  def sample(self,batch_size):\n",
        "    indices = np.random.choice(len(self.buffer),batch_size,replace=False)\n",
        "    states,actions,rewards,dones,next_states = zip(*[self.buffer[index] for index in indices]) # zip(*) ==> [[status],[actions],[rewards],[dones],[next_states]]\n",
        "    return np.array(states),np.array(actions),np.array(rewards,dtype=np.float32),np.array(dones,dtype=np.uint8),np.array(next_states)\n"
      ],
      "execution_count": null,
      "outputs": []
    },
    {
      "cell_type": "markdown",
      "metadata": {
        "id": "bTcPCJaOMuZ5"
      },
      "source": [
        "## Agent"
      ]
    },
    {
      "cell_type": "code",
      "metadata": {
        "id": "v5sKFVI7MxYO"
      },
      "source": [
        "class Agent:\n",
        "  def __init__(self,env,exp_buffer):\n",
        "    self.env = env\n",
        "    self.exp_buffer = exp_buffer\n",
        "    self._reset()\n",
        "  def _reset(self):\n",
        "    self.state = env.reset()\n",
        "    self.total_reward = 0.0\n",
        "  def play_step(self,net,epsilon=0.0,device=\"cpu\"):\n",
        "    done_reward = None\n",
        "    # randomly walk if the probability() base of Uniform distribution < epsilon\n",
        "    if np.random.random() < epsilon:\n",
        "      action = env.action_space.sample()\n",
        "    else:\n",
        "      # state action\n",
        "      state_a = np.array([self.state],copy=False)\n",
        "      # state vector from state action\n",
        "      state_v = torch.tensor(state_a).to(device)\n",
        "      # get q_value base on neural network\n",
        "      q_vals_v = net(state_v)\n",
        "      _,act_v = torch.max(q_vals_v,dim=1) #action_value base on the largest q_val , where q_val = [a,b,c] , and q_val representing the 3 action scroes\n",
        "      action = int(act_v.item()) # act_v.item() can access the number of the act_v\n",
        "\n",
        "    new_state,reward,is_done,_ = self.env.step(action) # move that action\n",
        "    self.total_reward += reward\n",
        "      \n",
        "    # get exp from exp tuple\n",
        "    exp = Experience(self.state,action,reward,is_done,new_state)\n",
        "    # store exp in buffer\n",
        "    self.exp_buffer.append(exp)\n",
        "    # update self.state\n",
        "    self.state = new_state\n",
        "    # check game end\n",
        "    if is_done:\n",
        "      done_reward = self.total_reward\n",
        "      self._reset()\n",
        "    return done_reward\n",
        "\n",
        "\n",
        "\n"
      ],
      "execution_count": null,
      "outputs": []
    },
    {
      "cell_type": "markdown",
      "metadata": {
        "id": "-c0hOfl1TooU"
      },
      "source": [
        "## Loss function"
      ]
    },
    {
      "cell_type": "code",
      "metadata": {
        "id": "Fkw0vkOrTq3F"
      },
      "source": [
        "def get_loss(batch,net,target_network,device=\"cpu\"):\n",
        "  states,actions,rewards,is_dones,next_states = batch\n",
        "  states_v = torch.tensor(states).to(device)\n",
        "  actions_v = torch.tensor(actions).to(device)\n",
        "  rewards_v = torch.tensor(rewards).to(device)\n",
        "  is_dones_v = torch.ByteTensor(is_dones).to(device)\n",
        "  next_states_v = torch.tensor(next_states).to(device)\n",
        "  \n",
        "  # current network \n",
        "  batch_action_table_output = net(states_v) # 2D array [batch_size,action_size] batch size * action size\n",
        "  batch_best_action = batch_action_table_output.gather(1,actions_v.unsqueeze(-1)) # if action take is [1,2,0] for batch [1,2,3] ,then we get the value of\n",
        "                                  #batch_action_table_output[1][1],batch_action_table_output[2][2],batch_action_table_output[3][0]\n",
        "                                  # check out the function of unsqueeze yourself\n",
        "  batch_best_action_expanded = batch_best_action.squeeze(-1) # we need to add 1 more dimension on the array \n",
        "  current_state_action_value = batch_best_action_expanded\n",
        "  \n",
        "  # target netwokr\n",
        "  # same theory as above but maximize is enough\n",
        "  next_state_batch_action_table_output = target_net(next_states_v)\n",
        "  next_state_values = next_state_batch_action_table_output.max(1)[0] # [0] is used as next_state_batch_action_table_output = [[1,2,3,4]]\n",
        "\n",
        "  # next_state_values = 0 if it is end already, we will not get any future value after it is die\n",
        "  next_state_values[is_dones_v] = 0.0\n",
        "\n",
        "  # we do not train target_net work so we need to detach it from the graph \n",
        "  next_state_values = next_state_values.detach()\n",
        "\n",
        "  # next_best_score * Gamma + current_transitional_reward\n",
        "  expected_state_action_value = next_state_values * GAMMA + rewards_v\n",
        "\n",
        "  loss_value = nn.MSELoss()(current_state_action_value,expected_state_action_value)\n",
        "  return loss_value"
      ],
      "execution_count": null,
      "outputs": []
    },
    {
      "cell_type": "markdown",
      "metadata": {
        "id": "W6sdpAXMxRcY"
      },
      "source": [
        "## Setup pharse"
      ]
    },
    {
      "cell_type": "code",
      "metadata": {
        "id": "h-oN_9S8xRzb",
        "outputId": "8318d17f-0483-48e4-f249-cd2a45cc7bc5",
        "colab": {
          "base_uri": "https://localhost:8080/",
          "height": 237
        }
      },
      "source": [
        "net = DQN(input_shape=env.observation_space.shape,n_actions=env.action_space.n).to(device)\n",
        "target_net = DQN(input_shape=env.observation_space.shape,n_actions=env.action_space.n).to(device)"
      ],
      "execution_count": null,
      "outputs": [
        {
          "output_type": "stream",
          "text": [
            "conv_1\n",
            "conv_2\n",
            "Test 0 pass\n",
            "Test 1 pass\n",
            "Check dim result pass\n",
            "Pass check dim\n",
            "conv_1\n",
            "conv_2\n",
            "Test 0 pass\n",
            "Test 1 pass\n",
            "Check dim result pass\n",
            "Pass check dim\n"
          ],
          "name": "stdout"
        }
      ]
    },
    {
      "cell_type": "markdown",
      "metadata": {
        "id": "TrkRV-KiZUGo"
      },
      "source": [
        "## print your model"
      ]
    },
    {
      "cell_type": "code",
      "metadata": {
        "id": "N7gEl0Y5ZVML",
        "outputId": "fbf5da5e-07fe-4745-fca0-fe3a8b3012a0",
        "colab": {
          "base_uri": "https://localhost:8080/",
          "height": 476
        }
      },
      "source": [
        "print(net)"
      ],
      "execution_count": null,
      "outputs": [
        {
          "output_type": "stream",
          "text": [
            "DQN(\n",
            "  (conv_1): Sequential(\n",
            "    (0): Conv2d(4, 32, kernel_size=(6, 6), stride=(3, 3))\n",
            "    (1): ReLU()\n",
            "    (2): Conv2d(32, 64, kernel_size=(4, 4), stride=(2, 2))\n",
            "    (3): ReLU()\n",
            "    (4): BatchNorm2d(64, eps=1e-05, momentum=0.1, affine=True, track_running_stats=True)\n",
            "    (5): MaxPool2d(kernel_size=2, stride=2, padding=0, dilation=1, ceil_mode=False)\n",
            "  )\n",
            "  (conv_2): Sequential(\n",
            "    (0): Conv2d(64, 256, kernel_size=(3, 3), stride=(2, 2))\n",
            "    (1): ReLU()\n",
            "    (2): Conv2d(256, 256, kernel_size=(1, 1), stride=(1, 1))\n",
            "    (3): ReLU()\n",
            "    (4): BatchNorm2d(256, eps=1e-05, momentum=0.1, affine=True, track_running_stats=True)\n",
            "    (5): MaxPool2d(kernel_size=2, stride=2, padding=0, dilation=1, ceil_mode=False)\n",
            "  )\n",
            "  (fc_1): Sequential(\n",
            "    (0): Linear(in_features=256, out_features=128, bias=True)\n",
            "    (1): ReLU()\n",
            "    (2): Linear(in_features=128, out_features=64, bias=True)\n",
            "    (3): ReLU()\n",
            "    (4): Linear(in_features=64, out_features=6, bias=True)\n",
            "  )\n",
            ")\n"
          ],
          "name": "stdout"
        }
      ]
    },
    {
      "cell_type": "markdown",
      "metadata": {
        "id": "QwhnKAG0YP5W"
      },
      "source": [
        "## Training pharse\n",
        "## Important : change your target reward, \n",
        "### the higher the better, but longer"
      ]
    },
    {
      "cell_type": "code",
      "metadata": {
        "id": "BoYv2vRRYRS6"
      },
      "source": [
        "optimizer = optim.Adam(net.parameters(),lr=LEARNING_RATE)\n",
        "total_rewards = []\n",
        "exp_buffer = ExperienceBuffer(REPLAY_SIZE)\n",
        "agent = Agent(env,exp_buffer)\n",
        "epsilon = EPSILON_START"
      ],
      "execution_count": null,
      "outputs": []
    },
    {
      "cell_type": "code",
      "metadata": {
        "id": "1a7Ez2NtNnKQ",
        "outputId": "3b5803bf-f01f-4f30-bcb9-1cad6866b3bc",
        "colab": {
          "base_uri": "https://localhost:8080/",
          "height": 955
        }
      },
      "source": [
        "# frame counter\n",
        "frame_index = 0\n",
        "# change this plz\n",
        "target_reward = 21 \n",
        "best_mean_reward = None\n",
        "while True:\n",
        "  frame_index += 1\n",
        "  epsilon = max(EPSILON_FINAL,EPSILON_START-frame_index/EPSILON_DECAY_LAST_FRAME)\n",
        "  reward = agent.play_step(net,epsilon,device)\n",
        "  if reward is not None:\n",
        "    total_rewards.append(reward)\n",
        "    # last 100 rewards\n",
        "    mean_reward = np.mean(total_rewards[-100:])\n",
        "    print(\"%d: done %d games, mean reward: %.3f epsilon: %.3f\"%(frame_index,len(total_rewards),mean_reward,epsilon))\n",
        "\n",
        "    if best_mean_reward is None or best_mean_reward < mean_reward:\n",
        "      torch.save(net.state_dict(),GYM_NAME+\"-best.dat\")\n",
        "      if best_mean_reward is not None:\n",
        "        print(\"BEST mean reward updated %.3f -> %.3f,model saved\"%(best_mean_reward,mean_reward))\n",
        "      if mean_reward > target_reward:\n",
        "        print(\"Solved in %d frame for %d step problem\"%(frame_index,target_reward))\n",
        "        break\n",
        "\n",
        "  if len(exp_buffer) < REPLAY_START_SIZE:\n",
        "    continue\n",
        "  if frame_index % SYNC_TARGET_FRAMES == 0:\n",
        "    target_net.load_state_dict(net.state_dict())\n",
        "  \n",
        "  optimizer.zero_grad()\n",
        "  batch = exp_buffer.sample(BATCH_SIZE)\n",
        "  loss = get_loss(batch,net,target_net,device)\n",
        "  loss.backward()\n",
        "  optimizer.step()\n"
      ],
      "execution_count": null,
      "outputs": [
        {
          "output_type": "stream",
          "text": [
            "4202: done 1 games, mean reward: -20.000 epsilon: 0.958\n",
            "7923: done 2 games, mean reward: -20.000 epsilon: 0.921\n"
          ],
          "name": "stdout"
        },
        {
          "output_type": "stream",
          "text": [
            "/usr/local/lib/python3.6/dist-packages/ipykernel_launcher.py:23: UserWarning: indexing with dtype torch.uint8 is now deprecated, please use a dtype torch.bool instead. (Triggered internally at  /pytorch/aten/src/ATen/native/IndexingUtils.h:20.)\n"
          ],
          "name": "stderr"
        },
        {
          "output_type": "stream",
          "text": [
            "11558: done 3 games, mean reward: -20.000 epsilon: 0.884\n",
            "15076: done 4 games, mean reward: -20.250 epsilon: 0.849\n",
            "18370: done 5 games, mean reward: -20.400 epsilon: 0.816\n",
            "21959: done 6 games, mean reward: -20.333 epsilon: 0.780\n",
            "25749: done 7 games, mean reward: -20.143 epsilon: 0.743\n",
            "28990: done 8 games, mean reward: -20.250 epsilon: 0.710\n",
            "32980: done 9 games, mean reward: -20.111 epsilon: 0.670\n",
            "36258: done 10 games, mean reward: -20.200 epsilon: 0.637\n",
            "39500: done 11 games, mean reward: -20.273 epsilon: 0.605\n",
            "43096: done 12 games, mean reward: -20.250 epsilon: 0.569\n",
            "46870: done 13 games, mean reward: -20.308 epsilon: 0.531\n",
            "50276: done 14 games, mean reward: -20.357 epsilon: 0.497\n",
            "53570: done 15 games, mean reward: -20.400 epsilon: 0.464\n",
            "57088: done 16 games, mean reward: -20.438 epsilon: 0.429\n",
            "61898: done 17 games, mean reward: -20.353 epsilon: 0.381\n",
            "65656: done 18 games, mean reward: -20.389 epsilon: 0.343\n",
            "68710: done 19 games, mean reward: -20.421 epsilon: 0.313\n",
            "72004: done 20 games, mean reward: -20.450 epsilon: 0.280\n",
            "75685: done 21 games, mean reward: -20.381 epsilon: 0.243\n",
            "78857: done 22 games, mean reward: -20.409 epsilon: 0.211\n",
            "81986: done 23 games, mean reward: -20.435 epsilon: 0.180\n",
            "85392: done 24 games, mean reward: -20.458 epsilon: 0.146\n",
            "89172: done 25 games, mean reward: -20.480 epsilon: 0.108\n",
            "92777: done 26 games, mean reward: -20.462 epsilon: 0.072\n",
            "96551: done 27 games, mean reward: -20.444 epsilon: 0.034\n",
            "100513: done 28 games, mean reward: -20.429 epsilon: 0.020\n",
            "104350: done 29 games, mean reward: -20.414 epsilon: 0.020\n",
            "108117: done 30 games, mean reward: -20.433 epsilon: 0.020\n",
            "111526: done 31 games, mean reward: -20.452 epsilon: 0.020\n",
            "115199: done 32 games, mean reward: -20.438 epsilon: 0.020\n",
            "118980: done 33 games, mean reward: -20.424 epsilon: 0.020\n",
            "122822: done 34 games, mean reward: -20.441 epsilon: 0.020\n",
            "126367: done 35 games, mean reward: -20.429 epsilon: 0.020\n",
            "130407: done 36 games, mean reward: -20.389 epsilon: 0.020\n",
            "134429: done 37 games, mean reward: -20.405 epsilon: 0.020\n",
            "137595: done 38 games, mean reward: -20.421 epsilon: 0.020\n",
            "142146: done 39 games, mean reward: -20.385 epsilon: 0.020\n",
            "146341: done 40 games, mean reward: -20.375 epsilon: 0.020\n",
            "150241: done 41 games, mean reward: -20.390 epsilon: 0.020\n",
            "153631: done 42 games, mean reward: -20.405 epsilon: 0.020\n",
            "158063: done 43 games, mean reward: -20.395 epsilon: 0.020\n",
            "162417: done 44 games, mean reward: -20.341 epsilon: 0.020\n",
            "167241: done 45 games, mean reward: -20.311 epsilon: 0.020\n",
            "170964: done 46 games, mean reward: -20.304 epsilon: 0.020\n",
            "174441: done 47 games, mean reward: -20.298 epsilon: 0.020\n",
            "177495: done 48 games, mean reward: -20.312 epsilon: 0.020\n",
            "180864: done 49 games, mean reward: -20.327 epsilon: 0.020\n"
          ],
          "name": "stdout"
        }
      ]
    },
    {
      "cell_type": "markdown",
      "metadata": {
        "id": "Tbl8lVMdRzBe"
      },
      "source": [
        "## Evaluation section (capture this)"
      ]
    },
    {
      "cell_type": "code",
      "metadata": {
        "id": "KnqyVl4YR0fe"
      },
      "source": [
        "## print your score gained"
      ],
      "execution_count": null,
      "outputs": []
    },
    {
      "cell_type": "code",
      "metadata": {
        "id": "JQ9AqPD7ViD7"
      },
      "source": [
        "## reload , if you have the weighting file saved\n",
        "env = make_env(\"PongNoFrameskip-v4\")\n",
        "net = DQN(input_shape=env.observation_space.shape,n_actions=env.action_space.n).to(device)\n",
        "net.load_state_dict(torch.load(GYM_NAME+\"-best.dat\"))"
      ],
      "execution_count": null,
      "outputs": []
    },
    {
      "cell_type": "code",
      "metadata": {
        "id": "7XE4QxmTEVtg"
      },
      "source": [
        "state = env.reset()\n",
        "total_reward = 0.0\n",
        "counter = 0\n",
        "while True:\n",
        "  # env.render colab cannot\n",
        "  counter+=1\n",
        "  state_vector = torch.tensor(np.array([state],copy=False))\n",
        "  state_vector = state_vector.to(device)\n",
        "  q_values = net(state_vector).cpu().data.numpy()[0] # tensor.data.numpy() : tensor -> numpy_array, we use [0] as numpy_array == [q_values]\n",
        "  action = np.argmax(q_values)\n",
        "  state,reward,done,_ = env.step(action)\n",
        "  total_reward += reward\n",
        "  if done:\n",
        "    break\n",
        " \n",
        "print(\"Total reward {}\".format(total_reward))\n",
        "  "
      ],
      "execution_count": null,
      "outputs": []
    },
    {
      "cell_type": "code",
      "metadata": {
        "id": "uG2qQJKHHsYQ"
      },
      "source": [
        ""
      ],
      "execution_count": null,
      "outputs": []
    }
  ]
}