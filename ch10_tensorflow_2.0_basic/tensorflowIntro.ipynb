{
  "nbformat": 4,
  "nbformat_minor": 0,
  "metadata": {
    "colab": {
      "name": "tensorflowIntro.ipynb",
      "provenance": [],
      "authorship_tag": "ABX9TyOhPtjwz1sWz0qsQiRCMTDa",
      "include_colab_link": true
    },
    "kernelspec": {
      "name": "python3",
      "display_name": "Python 3"
    }
  },
  "cells": [
    {
      "cell_type": "markdown",
      "metadata": {
        "id": "view-in-github",
        "colab_type": "text"
      },
      "source": [
        "<a href=\"https://colab.research.google.com/github/wesley34/comp3414_course_material/blob/master/ch10_tensorflow_2.0_basic/tensorflowIntro.ipynb\" target=\"_parent\"><img src=\"https://colab.research.google.com/assets/colab-badge.svg\" alt=\"Open In Colab\"/></a>"
      ]
    },
    {
      "cell_type": "markdown",
      "metadata": {
        "id": "Xw2T0ueVePGN"
      },
      "source": [
        "## Introduction on 2 major patterns in tensorflow 2"
      ]
    },
    {
      "cell_type": "code",
      "metadata": {
        "id": "A52Dh0NvcF84"
      },
      "source": [
        "import tensorflow as tf\n",
        "import numpy as np"
      ],
      "execution_count": 317,
      "outputs": []
    },
    {
      "cell_type": "code",
      "metadata": {
        "id": "0Wdc-2Biecog",
        "outputId": "e94d6678-af78-46e0-9524-f190febf9335",
        "colab": {
          "base_uri": "https://localhost:8080/",
          "height": 36
        }
      },
      "source": [
        "tf.__version__ # 2.x.x"
      ],
      "execution_count": 318,
      "outputs": [
        {
          "output_type": "execute_result",
          "data": {
            "application/vnd.google.colaboratory.intrinsic+json": {
              "type": "string"
            },
            "text/plain": [
              "'2.3.0'"
            ]
          },
          "metadata": {
            "tags": []
          },
          "execution_count": 318
        }
      ]
    },
    {
      "cell_type": "markdown",
      "metadata": {
        "id": "cSrfZpjQeW1H"
      },
      "source": [
        "### keras"
      ]
    },
    {
      "cell_type": "code",
      "metadata": {
        "id": "aH6sH2tgkxCc"
      },
      "source": [
        "# create fake data\n",
        "fake_data = np.random.random([100,50,50])\n",
        "x = fake_data # shape = [100,50,50]\n",
        "y = 3 * np.mean(x,axis=-1) # shape = [100,50,]\n",
        "y = np.expand_dims(y,axis=-1) # shape = [100,50,1] # better practise "
      ],
      "execution_count": 319,
      "outputs": []
    },
    {
      "cell_type": "code",
      "metadata": {
        "id": "5ulxTtW_mtVv"
      },
      "source": [
        ""
      ],
      "execution_count": 319,
      "outputs": []
    },
    {
      "cell_type": "code",
      "metadata": {
        "id": "hPriRUCilMOZ"
      },
      "source": [
        "x_train,y_train,x_test,y_test = x[:70],y[:70],x[70:],y[70:]"
      ],
      "execution_count": 320,
      "outputs": []
    },
    {
      "cell_type": "code",
      "metadata": {
        "id": "lGra22jWmtvb"
      },
      "source": [
        "# please check the x_train,y_train,x_test,y_test shape yourself"
      ],
      "execution_count": 321,
      "outputs": []
    },
    {
      "cell_type": "code",
      "metadata": {
        "id": "FSpkbZGom4IT"
      },
      "source": [
        ""
      ],
      "execution_count": 321,
      "outputs": []
    },
    {
      "cell_type": "code",
      "metadata": {
        "id": "uPNpa_vYeYoa"
      },
      "source": [
        "# create your model with tf.keras.Sequential\n",
        "# you can wrap you layers/activation functions/customization inside\n",
        "# you should check the different layers functions yourself as there are plenty of parameters\n",
        "# method 1\n",
        "# you can input layers sequence with list of layers\n",
        "model = tf.keras.Sequential(\n",
        "    [tf.keras.layers.Dense(5), # after any input , the shape will become batch_size,x,x,...,5\n",
        "    tf.keras.layers.Dense(1)\n",
        "    ] # after this, the shape will become batch_size,x,x,...,1\n",
        ")"
      ],
      "execution_count": 322,
      "outputs": []
    },
    {
      "cell_type": "code",
      "metadata": {
        "id": "HKrin0WemMlH"
      },
      "source": [
        "# method 2\n",
        "# you can use add\n",
        "model = tf.keras.Sequential()\n",
        "model.add(tf.keras.layers.Dense(8))\n",
        "model.add(tf.keras.layers.Dense(1))\n"
      ],
      "execution_count": 323,
      "outputs": []
    },
    {
      "cell_type": "code",
      "metadata": {
        "id": "VEj19gzdlXux"
      },
      "source": [
        "model.compile(optimizer=tf.keras.optimizers.Adam(lr=0.04),loss='mse',metrics=[\"mae\",\"mse\"])"
      ],
      "execution_count": 324,
      "outputs": []
    },
    {
      "cell_type": "code",
      "metadata": {
        "id": "vDd0_Q7plZUz",
        "outputId": "20214972-f3ad-4052-e539-5be213b03ce1",
        "colab": {
          "base_uri": "https://localhost:8080/",
          "height": 401
        }
      },
      "source": [
        "model.fit(x_train,y_train,epochs=10)"
      ],
      "execution_count": 325,
      "outputs": [
        {
          "output_type": "stream",
          "text": [
            "Epoch 1/10\n",
            "3/3 [==============================] - 0s 4ms/step - loss: 1.9841 - mae: 1.1593 - mse: 1.9841\n",
            "Epoch 2/10\n",
            "3/3 [==============================] - 0s 3ms/step - loss: 0.5340 - mae: 0.6038 - mse: 0.5340\n",
            "Epoch 3/10\n",
            "3/3 [==============================] - 0s 4ms/step - loss: 0.6237 - mae: 0.7623 - mse: 0.6237\n",
            "Epoch 4/10\n",
            "3/3 [==============================] - 0s 4ms/step - loss: 0.0782 - mae: 0.2294 - mse: 0.0782\n",
            "Epoch 5/10\n",
            "3/3 [==============================] - 0s 4ms/step - loss: 0.2741 - mae: 0.4939 - mse: 0.2741\n",
            "Epoch 6/10\n",
            "3/3 [==============================] - 0s 3ms/step - loss: 0.0335 - mae: 0.1481 - mse: 0.0335\n",
            "Epoch 7/10\n",
            "3/3 [==============================] - 0s 3ms/step - loss: 0.1556 - mae: 0.3767 - mse: 0.1556\n",
            "Epoch 8/10\n",
            "3/3 [==============================] - 0s 6ms/step - loss: 0.0591 - mae: 0.2094 - mse: 0.0591\n",
            "Epoch 9/10\n",
            "3/3 [==============================] - 0s 3ms/step - loss: 0.0454 - mae: 0.1802 - mse: 0.0454\n",
            "Epoch 10/10\n",
            "3/3 [==============================] - 0s 3ms/step - loss: 0.0520 - mae: 0.1978 - mse: 0.0520\n"
          ],
          "name": "stdout"
        },
        {
          "output_type": "execute_result",
          "data": {
            "text/plain": [
              "<tensorflow.python.keras.callbacks.History at 0x7fb0142468d0>"
            ]
          },
          "metadata": {
            "tags": []
          },
          "execution_count": 325
        }
      ]
    },
    {
      "cell_type": "code",
      "metadata": {
        "id": "MsvieST6sygq"
      },
      "source": [
        ""
      ],
      "execution_count": 325,
      "outputs": []
    },
    {
      "cell_type": "code",
      "metadata": {
        "id": "Hz5NsRxNszGy"
      },
      "source": [
        "# you may check your model layer"
      ],
      "execution_count": 326,
      "outputs": []
    },
    {
      "cell_type": "code",
      "metadata": {
        "id": "tWYbYL_kRRAa",
        "outputId": "1aad8c75-b2b4-4210-b4c9-f006ed58393b",
        "colab": {
          "base_uri": "https://localhost:8080/",
          "height": 312
        }
      },
      "source": [
        "tf.keras.utils.plot_model(model,show_shapes=True)"
      ],
      "execution_count": 327,
      "outputs": [
        {
          "output_type": "execute_result",
          "data": {
            "image/png": "[encoded data removed]",
            "text/plain": [
              "<IPython.core.display.Image object>"
            ]
          },
          "metadata": {
            "tags": []
          },
          "execution_count": 327
        }
      ]
    },
    {
      "cell_type": "code",
      "metadata": {
        "id": "2joxyf-WRRf6"
      },
      "source": [
        ""
      ],
      "execution_count": 327,
      "outputs": []
    },
    {
      "cell_type": "code",
      "metadata": {
        "id": "htCqMekLs0yT",
        "outputId": "b4d67eb9-c7b8-49a0-8774-d23bdc7591fd",
        "colab": {
          "base_uri": "https://localhost:8080/",
          "height": 236
        }
      },
      "source": [
        "model.summary()"
      ],
      "execution_count": 328,
      "outputs": [
        {
          "output_type": "stream",
          "text": [
            "Model: \"sequential_18\"\n",
            "_________________________________________________________________\n",
            "Layer (type)                 Output Shape              Param #   \n",
            "=================================================================\n",
            "dense_80 (Dense)             (None, 50, 8)             408       \n",
            "_________________________________________________________________\n",
            "dense_81 (Dense)             (None, 50, 1)             9         \n",
            "=================================================================\n",
            "Total params: 417\n",
            "Trainable params: 417\n",
            "Non-trainable params: 0\n",
            "_________________________________________________________________\n"
          ],
          "name": "stdout"
        }
      ]
    },
    {
      "cell_type": "code",
      "metadata": {
        "id": "4Ayp4sOblhfA"
      },
      "source": [
        "# now you can do prediction with the remaining data"
      ],
      "execution_count": 329,
      "outputs": []
    },
    {
      "cell_type": "code",
      "metadata": {
        "id": "7uGjxbt3n4g6"
      },
      "source": [
        ""
      ],
      "execution_count": 329,
      "outputs": []
    },
    {
      "cell_type": "code",
      "metadata": {
        "id": "EU8apukPmqiD",
        "outputId": "ca7bdcea-bea3-4e5e-d281-320bb808f4c7",
        "colab": {
          "base_uri": "https://localhost:8080/",
          "height": 92
        }
      },
      "source": [
        "# get predition\n",
        "y_pred = model.predict(x_test)\n",
        "print(y_pred[1,1])\n",
        "print(np.mean(x_test[1,1]))\n",
        "# not bad 3*mean(x) is about y in this case, but can we have a better approach?\n"
      ],
      "execution_count": 330,
      "outputs": [
        {
          "output_type": "stream",
          "text": [
            "WARNING:tensorflow:8 out of the last 11 calls to <function Model.make_predict_function.<locals>.predict_function at 0x7fb0159b2378> triggered tf.function retracing. Tracing is expensive and the excessive number of tracings could be due to (1) creating @tf.function repeatedly in a loop, (2) passing tensors with different shapes, (3) passing Python objects instead of tensors. For (1), please define your @tf.function outside of the loop. For (2), @tf.function has experimental_relax_shapes=True option that relaxes argument shapes that can avoid unnecessary retracing. For (3), please refer to https://www.tensorflow.org/tutorials/customization/performance#python_or_tensor_args and https://www.tensorflow.org/api_docs/python/tf/function for  more details.\n",
            "[1.4699047]\n",
            "0.5134019074185329\n"
          ],
          "name": "stdout"
        }
      ]
    },
    {
      "cell_type": "code",
      "metadata": {
        "id": "83jmw1k7sNa2"
      },
      "source": [
        ""
      ],
      "execution_count": 330,
      "outputs": []
    },
    {
      "cell_type": "code",
      "metadata": {
        "id": "6TLvE_LysOxq"
      },
      "source": [
        "# we may define custome function to check for the accuracy using mse/mae"
      ],
      "execution_count": 331,
      "outputs": []
    },
    {
      "cell_type": "code",
      "metadata": {
        "id": "ljI8rH3Eqag_"
      },
      "source": [
        "from sklearn.metrics import mean_squared_error,mean_absolute_error"
      ],
      "execution_count": 332,
      "outputs": []
    },
    {
      "cell_type": "code",
      "metadata": {
        "id": "pXc1aUlKpg8z",
        "outputId": "46516169-9b67-4f83-a4a3-5329c51aa895",
        "colab": {
          "base_uri": "https://localhost:8080/",
          "height": 54
        }
      },
      "source": [
        "def eval_function(y_pred,y_test,func):\n",
        "  total_loss = 0\n",
        "  for i in range(len(y_pred)):\n",
        "    total_loss +=  func(y_test[i],y_pred[i])\n",
        "\n",
        "  total_mean_loss = total_loss/(len(y_pred))\n",
        "  return total_mean_loss\n",
        "\n",
        "print(\"MAE: \",eval_function(y_pred,y_test,mean_absolute_error))\n",
        "print(\"MSE: \",eval_function(y_pred,y_test,mean_squared_error))"
      ],
      "execution_count": 333,
      "outputs": [
        {
          "output_type": "stream",
          "text": [
            "MAE:  0.08867330484841757\n",
            "MSE:  0.01226091785177383\n"
          ],
          "name": "stdout"
        }
      ]
    },
    {
      "cell_type": "code",
      "metadata": {
        "id": "exXout-QsUgv"
      },
      "source": [
        ""
      ],
      "execution_count": 333,
      "outputs": []
    },
    {
      "cell_type": "code",
      "metadata": {
        "id": "G7SBLzGUsU-a"
      },
      "source": [
        "# we may also use model.evaluate to do so , it is better as we can set batch_size "
      ],
      "execution_count": 334,
      "outputs": []
    },
    {
      "cell_type": "code",
      "metadata": {
        "id": "Q4mbwKMQnHoz",
        "outputId": "5795d5bf-4124-4d2d-b214-caf6c98b39e7",
        "colab": {
          "base_uri": "https://localhost:8080/",
          "height": 92
        }
      },
      "source": [
        "model.evaluate(x_test,y_test,batch_size=1) "
      ],
      "execution_count": 335,
      "outputs": [
        {
          "output_type": "stream",
          "text": [
            "WARNING:tensorflow:9 out of the last 38 calls to <function Model.make_test_function.<locals>.test_function at 0x7fb0141bc6a8> triggered tf.function retracing. Tracing is expensive and the excessive number of tracings could be due to (1) creating @tf.function repeatedly in a loop, (2) passing tensors with different shapes, (3) passing Python objects instead of tensors. For (1), please define your @tf.function outside of the loop. For (2), @tf.function has experimental_relax_shapes=True option that relaxes argument shapes that can avoid unnecessary retracing. For (3), please refer to https://www.tensorflow.org/tutorials/customization/performance#python_or_tensor_args and https://www.tensorflow.org/api_docs/python/tf/function for  more details.\n",
            "30/30 [==============================] - 0s 2ms/step - loss: 0.0123 - mae: 0.0887 - mse: 0.0123\n"
          ],
          "name": "stdout"
        },
        {
          "output_type": "execute_result",
          "data": {
            "text/plain": [
              "[0.012260916642844677, 0.08867330104112625, 0.012260917574167252]"
            ]
          },
          "metadata": {
            "tags": []
          },
          "execution_count": 335
        }
      ]
    },
    {
      "cell_type": "code",
      "metadata": {
        "id": "bwl2Uwrzsgv2"
      },
      "source": [
        ""
      ],
      "execution_count": 335,
      "outputs": []
    },
    {
      "cell_type": "code",
      "metadata": {
        "id": "ElQhuRK0sg2o",
        "outputId": "810aeaca-7b88-47a9-c19c-b4e023f85d13",
        "colab": {
          "base_uri": "https://localhost:8080/",
          "height": 823
        }
      },
      "source": [
        "# in short\n",
        "\n",
        "model = tf.keras.Sequential(\n",
        "    [tf.keras.layers.Dense(5), \n",
        "    tf.keras.layers.Dense(1)]\n",
        ") # change the layers combination can make the model better\n",
        "model.compile(optimizer=tf.keras.optimizers.Adam(lr=0.04),loss='mse',metrics=[\"mae\",\"mse\"]) # change optimizer/lr-value/loss can make the model better\n",
        "# metrics mean what indicator you want to see , we wanna see mae and mse\n",
        "print(\"Model fitting\\n\")\n",
        "model.fit(x_train,y_train,epochs=10) # the more the epoches the more infomation it gets for convergence (typically)\n",
        "print(\"Model summary\\n\")\n",
        "model.summary()\n",
        "print(\"Model prediciton\\n\")\n",
        "# get model prediciton\n",
        "y_pred = model.predict(x_test)\n",
        "# do evaluation for the accuray\n",
        "print(\"Model evaluation\\n\")\n",
        "model.evaluate(x=x_test,y=y_test)"
      ],
      "execution_count": 336,
      "outputs": [
        {
          "output_type": "stream",
          "text": [
            "Model fitting\n",
            "\n",
            "Epoch 1/10\n",
            "3/3 [==============================] - 0s 3ms/step - loss: 1.5124 - mae: 0.9953 - mse: 1.5124\n",
            "Epoch 2/10\n",
            "3/3 [==============================] - 0s 4ms/step - loss: 0.4592 - mae: 0.5495 - mse: 0.4592\n",
            "Epoch 3/10\n",
            "3/3 [==============================] - 0s 3ms/step - loss: 0.4215 - mae: 0.5527 - mse: 0.4215\n",
            "Epoch 4/10\n",
            "3/3 [==============================] - 0s 5ms/step - loss: 0.3585 - mae: 0.5337 - mse: 0.3585\n",
            "Epoch 5/10\n",
            "3/3 [==============================] - 0s 3ms/step - loss: 0.0934 - mae: 0.2465 - mse: 0.0934\n",
            "Epoch 6/10\n",
            "3/3 [==============================] - 0s 2ms/step - loss: 0.1818 - mae: 0.3698 - mse: 0.1818\n",
            "Epoch 7/10\n",
            "3/3 [==============================] - 0s 3ms/step - loss: 0.0769 - mae: 0.2269 - mse: 0.0769\n",
            "Epoch 8/10\n",
            "3/3 [==============================] - 0s 4ms/step - loss: 0.0817 - mae: 0.2367 - mse: 0.0817\n",
            "Epoch 9/10\n",
            "3/3 [==============================] - 0s 2ms/step - loss: 0.0562 - mae: 0.1930 - mse: 0.0562\n",
            "Epoch 10/10\n",
            "3/3 [==============================] - 0s 3ms/step - loss: 0.0487 - mae: 0.1792 - mse: 0.0487\n",
            "Model summary\n",
            "\n",
            "Model: \"sequential_19\"\n",
            "_________________________________________________________________\n",
            "Layer (type)                 Output Shape              Param #   \n",
            "=================================================================\n",
            "dense_82 (Dense)             (None, 50, 5)             255       \n",
            "_________________________________________________________________\n",
            "dense_83 (Dense)             (None, 50, 1)             6         \n",
            "=================================================================\n",
            "Total params: 261\n",
            "Trainable params: 261\n",
            "Non-trainable params: 0\n",
            "_________________________________________________________________\n",
            "Model prediciton\n",
            "\n",
            "WARNING:tensorflow:8 out of the last 11 calls to <function Model.make_predict_function.<locals>.predict_function at 0x7fb0145d0400> triggered tf.function retracing. Tracing is expensive and the excessive number of tracings could be due to (1) creating @tf.function repeatedly in a loop, (2) passing tensors with different shapes, (3) passing Python objects instead of tensors. For (1), please define your @tf.function outside of the loop. For (2), @tf.function has experimental_relax_shapes=True option that relaxes argument shapes that can avoid unnecessary retracing. For (3), please refer to https://www.tensorflow.org/tutorials/customization/performance#python_or_tensor_args and https://www.tensorflow.org/api_docs/python/tf/function for  more details.\n",
            "Model evaluation\n",
            "\n",
            "1/1 [==============================] - 0s 2ms/step - loss: 0.0281 - mae: 0.1358 - mse: 0.0281\n"
          ],
          "name": "stdout"
        },
        {
          "output_type": "execute_result",
          "data": {
            "text/plain": [
              "[0.02811216562986374, 0.13583439588546753, 0.02811216562986374]"
            ]
          },
          "metadata": {
            "tags": []
          },
          "execution_count": 336
        }
      ]
    },
    {
      "cell_type": "markdown",
      "metadata": {
        "id": "JnP2AMN4sckn"
      },
      "source": [
        "## Dynamic"
      ]
    },
    {
      "cell_type": "code",
      "metadata": {
        "id": "Izh3EkzBseA0"
      },
      "source": [
        "# it is more complex\n",
        "# the advantage of it is that : you can make thing more complext \n",
        "# consider the keras case, you are doing : layer 1 -> layer 2 -> layer 3 -> output\n",
        "# but what if : layer 1 -> layer 2.1 -> layer 3.1 ->  merge with below -> layer 4 -> output\n",
        "#               -> layer 2.2 -> layer 3.1 ->  merge with above\n",
        "# you canont do so in Sequential case"
      ],
      "execution_count": 337,
      "outputs": []
    },
    {
      "cell_type": "code",
      "metadata": {
        "id": "7D-nujdDvYsW"
      },
      "source": [
        "# you need to make something call Input as start point\n",
        "# output as endpoint"
      ],
      "execution_count": 338,
      "outputs": []
    },
    {
      "cell_type": "code",
      "metadata": {
        "id": "-D3guVWlPRBv",
        "outputId": "b0603575-61c9-4ab1-9de8-f5b5b4ebc240",
        "colab": {
          "base_uri": "https://localhost:8080/",
          "height": 54
        }
      },
      "source": [
        "print(x.shape)\n",
        "print(y.shape)"
      ],
      "execution_count": 339,
      "outputs": [
        {
          "output_type": "stream",
          "text": [
            "(100, 50, 50)\n",
            "(100, 50, 1)\n"
          ],
          "name": "stdout"
        }
      ]
    },
    {
      "cell_type": "code",
      "metadata": {
        "id": "7XLb2ThLwjB4"
      },
      "source": [
        "# you need to define the shape (second_size,) # batch_size,second_size,.... so this case is 50\n",
        "def create_model():\n",
        "  x = tf.keras.layers.Input(shape=(50,))\n",
        "  hidden_1_1 = tf.keras.layers.Dense(6, activation='relu')(x)\n",
        "  hidden_1_2 = tf.keras.layers.Dense(6, activation='sigmoid')(x)\n",
        "  hidden_concat = tf.keras.layers.Concatenate(axis=-1)([hidden_1_1,hidden_1_2])\n",
        "  y = tf.keras.layers.Dense(1, activation='relu')(hidden_concat)\n",
        "\n",
        "  model = tf.keras.models.Model(x, y) # x means input , y means output\n",
        "  return model"
      ],
      "execution_count": 340,
      "outputs": []
    },
    {
      "cell_type": "code",
      "metadata": {
        "id": "AdoOA3NOOLpN"
      },
      "source": [
        "model = create_model()"
      ],
      "execution_count": 341,
      "outputs": []
    },
    {
      "cell_type": "code",
      "metadata": {
        "id": "rbnbora0Ohcl",
        "outputId": "1dbdcf1f-a2ec-4411-ad4f-e128d42e915c",
        "colab": {
          "base_uri": "https://localhost:8080/",
          "height": 422
        }
      },
      "source": [
        "tf.keras.utils.plot_model(model,show_shapes=True)"
      ],
      "execution_count": 342,
      "outputs": [
        {
          "output_type": "execute_result",
          "data": {
            "image/png": "[encoded data removed]",
            "text/plain": [
              "<IPython.core.display.Image object>"
            ]
          },
          "metadata": {
            "tags": []
          },
          "execution_count": 342
        }
      ]
    },
    {
      "cell_type": "code",
      "metadata": {
        "id": "PC0icbkjOqY1"
      },
      "source": [
        ""
      ],
      "execution_count": 342,
      "outputs": []
    },
    {
      "cell_type": "code",
      "metadata": {
        "id": "HwO9tdITOtKK",
        "outputId": "17d77786-f392-4147-a5d9-8e7d3e7c9507",
        "colab": {
          "base_uri": "https://localhost:8080/",
          "height": 364
        }
      },
      "source": [
        "model.summary()"
      ],
      "execution_count": 343,
      "outputs": [
        {
          "output_type": "stream",
          "text": [
            "Model: \"functional_21\"\n",
            "__________________________________________________________________________________________________\n",
            "Layer (type)                    Output Shape         Param #     Connected to                     \n",
            "==================================================================================================\n",
            "input_13 (InputLayer)           [(None, 50)]         0                                            \n",
            "__________________________________________________________________________________________________\n",
            "dense_84 (Dense)                (None, 6)            306         input_13[0][0]                   \n",
            "__________________________________________________________________________________________________\n",
            "dense_85 (Dense)                (None, 6)            306         input_13[0][0]                   \n",
            "__________________________________________________________________________________________________\n",
            "concatenate_11 (Concatenate)    (None, 12)           0           dense_84[0][0]                   \n",
            "                                                                 dense_85[0][0]                   \n",
            "__________________________________________________________________________________________________\n",
            "dense_86 (Dense)                (None, 1)            13          concatenate_11[0][0]             \n",
            "==================================================================================================\n",
            "Total params: 625\n",
            "Trainable params: 625\n",
            "Non-trainable params: 0\n",
            "__________________________________________________________________________________________________\n"
          ],
          "name": "stdout"
        }
      ]
    },
    {
      "cell_type": "code",
      "metadata": {
        "id": "YlFjWsMEOtfA"
      },
      "source": [
        ""
      ],
      "execution_count": 343,
      "outputs": []
    },
    {
      "cell_type": "code",
      "metadata": {
        "id": "WytaG4XWOt_P"
      },
      "source": [
        "model.compile(optimizer=tf.keras.optimizers.Adam(lr=0.05),loss=\"mse\",metrics=[\"mae\",\"mse\"])\n"
      ],
      "execution_count": 344,
      "outputs": []
    },
    {
      "cell_type": "code",
      "metadata": {
        "id": "-kRL6nRoO5YQ",
        "outputId": "6e184ddd-da86-409d-df95-aa7087805904",
        "colab": {
          "base_uri": "https://localhost:8080/",
          "height": 458
        }
      },
      "source": [
        "model.fit(x_train,y_train,batch_size=6,epochs=10)"
      ],
      "execution_count": 345,
      "outputs": [
        {
          "output_type": "stream",
          "text": [
            "Epoch 1/10\n",
            "WARNING:tensorflow:Model was constructed with shape (None, 50) for input Tensor(\"input_13:0\", shape=(None, 50), dtype=float32), but it was called on an input with incompatible shape (None, 50, 50).\n",
            "WARNING:tensorflow:Model was constructed with shape (None, 50) for input Tensor(\"input_13:0\", shape=(None, 50), dtype=float32), but it was called on an input with incompatible shape (None, 50, 50).\n",
            "12/12 [==============================] - 0s 3ms/step - loss: 0.2472 - mae: 0.3541 - mse: 0.2472\n",
            "Epoch 2/10\n",
            "12/12 [==============================] - 0s 3ms/step - loss: 0.0260 - mae: 0.1316 - mse: 0.0260\n",
            "Epoch 3/10\n",
            "12/12 [==============================] - 0s 2ms/step - loss: 0.0178 - mae: 0.1065 - mse: 0.0178\n",
            "Epoch 4/10\n",
            "12/12 [==============================] - 0s 3ms/step - loss: 0.0140 - mae: 0.0937 - mse: 0.0140\n",
            "Epoch 5/10\n",
            "12/12 [==============================] - 0s 2ms/step - loss: 0.0132 - mae: 0.0919 - mse: 0.0132\n",
            "Epoch 6/10\n",
            "12/12 [==============================] - 0s 2ms/step - loss: 0.0129 - mae: 0.0904 - mse: 0.0129\n",
            "Epoch 7/10\n",
            "12/12 [==============================] - 0s 2ms/step - loss: 0.0124 - mae: 0.0887 - mse: 0.0124\n",
            "Epoch 8/10\n",
            "12/12 [==============================] - 0s 4ms/step - loss: 0.0118 - mae: 0.0868 - mse: 0.0118\n",
            "Epoch 9/10\n",
            "12/12 [==============================] - 0s 2ms/step - loss: 0.0112 - mae: 0.0846 - mse: 0.0112\n",
            "Epoch 10/10\n",
            "12/12 [==============================] - 0s 2ms/step - loss: 0.0107 - mae: 0.0823 - mse: 0.0107\n"
          ],
          "name": "stdout"
        },
        {
          "output_type": "execute_result",
          "data": {
            "text/plain": [
              "<tensorflow.python.keras.callbacks.History at 0x7fb00b58df98>"
            ]
          },
          "metadata": {
            "tags": []
          },
          "execution_count": 345
        }
      ]
    },
    {
      "cell_type": "code",
      "metadata": {
        "id": "y-0Ztlq4PCb7",
        "outputId": "b30e1a8c-8761-4906-a40c-c7d3b6778e7f",
        "colab": {
          "base_uri": "https://localhost:8080/",
          "height": 110
        }
      },
      "source": [
        "y_pred = model.predict(x_test)\n",
        "print(\"MAE: \",eval_function(y_pred,y_test,mean_absolute_error))\n",
        "print(\"MSE: \",eval_function(y_pred,y_test,mean_squared_error))"
      ],
      "execution_count": 346,
      "outputs": [
        {
          "output_type": "stream",
          "text": [
            "WARNING:tensorflow:Model was constructed with shape (None, 50) for input Tensor(\"input_13:0\", shape=(None, 50), dtype=float32), but it was called on an input with incompatible shape (None, 50, 50).\n",
            "WARNING:tensorflow:9 out of the last 12 calls to <function Model.make_predict_function.<locals>.predict_function at 0x7fb0143d4d08> triggered tf.function retracing. Tracing is expensive and the excessive number of tracings could be due to (1) creating @tf.function repeatedly in a loop, (2) passing tensors with different shapes, (3) passing Python objects instead of tensors. For (1), please define your @tf.function outside of the loop. For (2), @tf.function has experimental_relax_shapes=True option that relaxes argument shapes that can avoid unnecessary retracing. For (3), please refer to https://www.tensorflow.org/tutorials/customization/performance#python_or_tensor_args and https://www.tensorflow.org/api_docs/python/tf/function for  more details.\n",
            "MAE:  0.08100377973609914\n",
            "MSE:  0.010254966343262615\n"
          ],
          "name": "stdout"
        }
      ]
    },
    {
      "cell_type": "code",
      "metadata": {
        "id": "b8iwBQo5PrX9",
        "outputId": "00967b45-b7ca-41f4-869e-68ac15e18889",
        "colab": {
          "base_uri": "https://localhost:8080/",
          "height": 92
        }
      },
      "source": [
        "model.evaluate(x=x_test,y=y_test)"
      ],
      "execution_count": 347,
      "outputs": [
        {
          "output_type": "stream",
          "text": [
            "WARNING:tensorflow:Model was constructed with shape (None, 50) for input Tensor(\"input_13:0\", shape=(None, 50), dtype=float32), but it was called on an input with incompatible shape (None, 50, 50).\n",
            "1/1 [==============================] - 0s 2ms/step - loss: 0.0103 - mae: 0.0810 - mse: 0.0103\n"
          ],
          "name": "stdout"
        },
        {
          "output_type": "execute_result",
          "data": {
            "text/plain": [
              "[0.010254965163767338, 0.08100377768278122, 0.010254965163767338]"
            ]
          },
          "metadata": {
            "tags": []
          },
          "execution_count": 347
        }
      ]
    },
    {
      "cell_type": "code",
      "metadata": {
        "id": "gXACmnWwP6QC"
      },
      "source": [
        ""
      ],
      "execution_count": 347,
      "outputs": []
    },
    {
      "cell_type": "markdown",
      "metadata": {
        "id": "xHbfM3SBQRFM"
      },
      "source": [
        "## things that you may do to make a better model\n",
        "\n",
        "\n",
        "1.   different combination of layers and activation function\n",
        "2.   differrent value inside different layers\n",
        "3.   add drop-out\n",
        "4.   use different learning rate\n",
        "5.   use different loss function\n",
        "6.   follow some good architecture from books or github or papers\n",
        "7.   use a better data-preprocessing/data-compressing like pca/sof/....\n",
        "8.   em-routing instead of backward propogation\n",
        "9.   learn more statistic and mathematics\n",
        "10.  use naive approach before fancy approach\n",
        "11.  believe in your math, stat, skills and luck! \n",
        "\n",
        "\n",
        "\n",
        "---\n",
        "self read this google pix2pix guide on dynamic way on tf2\n",
        "https://www.tensorflow.org/tutorials/generative/pix2pix\n"
      ]
    },
    {
      "cell_type": "code",
      "metadata": {
        "id": "HTXU8xR5RHk0"
      },
      "source": [
        ""
      ],
      "execution_count": 347,
      "outputs": []
    }
  ]
}